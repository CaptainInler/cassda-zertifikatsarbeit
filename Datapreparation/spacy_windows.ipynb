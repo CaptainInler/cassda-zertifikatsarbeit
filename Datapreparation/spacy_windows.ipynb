{
 "cells": [
  {
   "cell_type": "markdown",
   "id": "b346d71a",
   "metadata": {},
   "source": [
    "# Using spacy to remove stopwords, add lemma and entity\n"
   ]
  },
  {
   "cell_type": "markdown",
   "id": "11bebe53",
   "metadata": {},
   "source": [
    "## Load Dataset\n",
    "Load dataset created in ../Datapreparation/Extract_street_terms_from_street_names.ipynb"
   ]
  },
  {
   "cell_type": "code",
   "execution_count": 1,
   "id": "99ee6af6",
   "metadata": {},
   "outputs": [],
   "source": [
    "#Load all needed libraries\n",
    "import pandas as pd\n",
    "import spacy #Our NLP tools\n",
    "import de_core_news_md #!python -m spacy download de_core_news_md\n",
    "import fr_core_news_md #!python -m spacy download fr_core_news_md\n",
    "from IPython.display import Javascript\n",
    "from pandarallel import pandarallel\n",
    "import numpy as np\n",
    "import time\n",
    "import warnings"
   ]
  },
  {
   "cell_type": "code",
   "execution_count": 2,
   "id": "14462033",
   "metadata": {},
   "outputs": [
    {
     "data": {
      "text/plain": [
       "Index(['Unnamed: 0', 'STR_ESID', 'STN_LABEL', 'COM_FOSNR', 'COM_NAME',\n",
       "       'COM_CANTON', 'STR_OFFICIAL', 'STR_EASTING', 'STR_NORTHING',\n",
       "       'STN_LABEL_NO_BI', 'STN_LABEL_NO_TERMS', 'STR_TERMS', 'STR_PREPS',\n",
       "       'STN_LABEL_FINAL'],\n",
       "      dtype='object')"
      ]
     },
     "execution_count": 2,
     "metadata": {},
     "output_type": "execute_result"
    }
   ],
   "source": [
    "streetnames = pd.read_csv('streetnames.csv', encoding='UTF-8-SIG', sep=';')\n",
    "streetnames.columns"
   ]
  },
  {
   "cell_type": "code",
   "execution_count": 3,
   "id": "2dce233d",
   "metadata": {},
   "outputs": [],
   "source": [
    "#Remove unused columns\n",
    "streetnames = streetnames.drop(['Unnamed: 0', 'COM_NAME', 'COM_CANTON','STR_EASTING', 'STR_NORTHING','COM_FOSNR',\n",
    "                        'STR_OFFICIAL','STR_TERMS', 'STR_PREPS', 'STN_LABEL_NO_BI', 'STN_LABEL_NO_TERMS'], axis=1)"
   ]
  },
  {
   "cell_type": "code",
   "execution_count": 4,
   "id": "d3187c8b",
   "metadata": {},
   "outputs": [
    {
     "name": "stdout",
     "output_type": "stream",
     "text": [
      "                 Missing Values\n",
      "STR_ESID                      0\n",
      "STN_LABEL                     0\n",
      "STN_LABEL_FINAL             591\n"
     ]
    }
   ],
   "source": [
    "#Drop nan\n",
    "missing_data = pd.DataFrame(\n",
    "    streetnames.isnull().sum(),\n",
    "    columns=['Missing Values'])\n",
    "\n",
    "print(missing_data)\n",
    "\n",
    "streetnames = streetnames.dropna()"
   ]
  },
  {
   "cell_type": "markdown",
   "id": "14b71d68",
   "metadata": {},
   "source": [
    "## Using spaCy Deutsch"
   ]
  },
  {
   "cell_type": "code",
   "execution_count": 5,
   "id": "c47313bf",
   "metadata": {},
   "outputs": [],
   "source": [
    "#Load a German language model to do NLP - the models we use will influence our results a lot\n",
    "nlp = spacy.load('de_core_news_md') #Change fr/de"
   ]
  },
  {
   "cell_type": "code",
   "execution_count": 6,
   "id": "38dbe97d",
   "metadata": {},
   "outputs": [],
   "source": [
    "stopwords = nlp.Defaults.stop_words\n",
    "\n",
    "#print(len(stopwords))\n",
    "#print(stopwords)"
   ]
  },
  {
   "cell_type": "markdown",
   "id": "aa08707e",
   "metadata": {},
   "source": [
    "### Remove stopwords"
   ]
  },
  {
   "cell_type": "code",
   "execution_count": 7,
   "id": "f86f828c",
   "metadata": {},
   "outputs": [],
   "source": [
    "streetnames['SPACY_DE'] = streetnames['STN_LABEL_FINAL'].str.split(' ')\n",
    "\n",
    "streetnames['SPACY_DE'] = streetnames['SPACY_DE'].apply(lambda x: [item for item in x if item not in stopwords])\n",
    "\n",
    "streetnames['SPACY_DE'] = streetnames['SPACY_DE'].str.join(' ')\n",
    "\n",
    "#Delete spaces at the beginning and end of the string using function 'strip()'\n",
    "streetnames['SPACY_DE'] = streetnames['SPACY_DE'].str.strip()"
   ]
  },
  {
   "cell_type": "code",
   "execution_count": 8,
   "id": "0f790417",
   "metadata": {},
   "outputs": [
    {
     "name": "stdout",
     "output_type": "stream",
     "text": [
      "INFO: Pandarallel will run on 2 workers.\n",
      "INFO: Pandarallel will use standard multiprocessing data transfer (pipe) to transfer data between the main process and workers.\n",
      "\n",
      "WARNING: You are on Windows. If you detect any issue with pandarallel, be sure you checked out the Troubleshooting page:\n",
      "https://nalepae.github.io/pandarallel/troubleshooting/\n"
     ]
    }
   ],
   "source": [
    "#Create subset since spacy is slow for larger datasets\n",
    "streetnames100 = streetnames.iloc[:1000,:]\n",
    "\n",
    "#Make ist faster\n",
    "pandarallel.initialize(progress_bar=True)  "
   ]
  },
  {
   "cell_type": "markdown",
   "id": "d7b8a199",
   "metadata": {},
   "source": [
    "### Lemmatization\n",
    "Assigning the base forms of words. For example, the lemma of “was” is “be”, and the lemma of “rats” is “rat”."
   ]
  },
  {
   "cell_type": "code",
   "execution_count": 9,
   "id": "1dcdfc6d",
   "metadata": {},
   "outputs": [
    {
     "name": "stdout",
     "output_type": "stream",
     "text": [
      "CPU times: total: 48min 3s\n",
      "Wall time: 48min 53s\n"
     ]
    }
   ],
   "source": [
    "%%time\n",
    "\n",
    "#for i in streetnames100.SPACY_DE.items():\n",
    "for i in streetnames.SPACY_DE.items():\n",
    "    doc = nlp(i[1])\n",
    "    for token in doc:\n",
    "        #print(f\"{token.text:<20}\\t{token.lemma_:<20}\\t{token.pos_:<6}\\t{token.is_stop}\")\n",
    "        #streetnames100.loc[i[0], 'SPACY_DE_LEMMA'] = token.lemma_\n",
    "        streetnames.loc[i[0], 'SPACY_DE_LEMMA'] = token.lemma_\n"
   ]
  },
  {
   "cell_type": "markdown",
   "id": "3079e96b",
   "metadata": {},
   "source": [
    "### Named Entity Recognition (NER)\n",
    "Labelling named “real-world” objects, like persons, companies or locations."
   ]
  },
  {
   "cell_type": "code",
   "execution_count": 10,
   "id": "168db0ed",
   "metadata": {},
   "outputs": [
    {
     "name": "stdout",
     "output_type": "stream",
     "text": [
      "CPU times: total: 22min 6s\n",
      "Wall time: 22min 16s\n"
     ]
    }
   ],
   "source": [
    "%%time\n",
    "\n",
    "#for i in streetnames100.SPACY_DE.items():\n",
    "for i in streetnames.SPACY_DE.items():\n",
    "    doc = nlp(i[1])\n",
    "    #print(i[0])\n",
    "    for ent in doc.ents:\n",
    "        #print(f\"{ent.text:<20}\\t{ent.label_:<3}\")\n",
    "        #streetnames100.loc[i[0], 'SPACY_DE_ENT'] = ent.label_\n",
    "        streetnames.loc[i[0], 'SPACY_DE_ENT'] = ent.label_"
   ]
  },
  {
   "cell_type": "markdown",
   "id": "4da872d6",
   "metadata": {},
   "source": [
    "## Using spaCy Français"
   ]
  },
  {
   "cell_type": "code",
   "execution_count": 11,
   "id": "7942c2e0",
   "metadata": {},
   "outputs": [],
   "source": [
    "#Load a German language model to do NLP - the models we use will influence our results a lot\n",
    "nlp = spacy.load('fr_core_news_md') #Change fr/de"
   ]
  },
  {
   "cell_type": "code",
   "execution_count": 12,
   "id": "462a2064",
   "metadata": {},
   "outputs": [],
   "source": [
    "stopwords = nlp.Defaults.stop_words\n",
    "\n",
    "#print(len(stopwords))\n",
    "#print(stopwords)"
   ]
  },
  {
   "cell_type": "markdown",
   "id": "cb9d8954",
   "metadata": {},
   "source": [
    "### Remove stopwords"
   ]
  },
  {
   "cell_type": "code",
   "execution_count": 13,
   "id": "ebda8861",
   "metadata": {},
   "outputs": [],
   "source": [
    "streetnames['SPACY_FR'] = streetnames['STN_LABEL_FINAL'].str.split(' ')\n",
    "\n",
    "streetnames['SPACY_FR'] = streetnames['SPACY_FR'].apply(lambda x: [item for item in x if item not in stopwords])\n",
    "\n",
    "streetnames['SPACY_FR'] = streetnames['SPACY_FR'].str.join(' ')\n",
    "\n",
    "#Delete spaces at the beginning and end of the string using function 'strip()'\n",
    "streetnames['SPACY_FR'] = streetnames['SPACY_FR'].str.strip()"
   ]
  },
  {
   "cell_type": "markdown",
   "id": "6f8af20a",
   "metadata": {},
   "source": [
    "### Lemmatization\n",
    "Assigning the base forms of words. For example, the lemma of “was” is “be”, and the lemma of “rats” is “rat”."
   ]
  },
  {
   "cell_type": "code",
   "execution_count": 14,
   "id": "df7771b9",
   "metadata": {},
   "outputs": [
    {
     "name": "stdout",
     "output_type": "stream",
     "text": [
      "CPU times: total: 44min 30s\n",
      "Wall time: 44min 37s\n"
     ]
    }
   ],
   "source": [
    "%%time\n",
    "\n",
    "#for i in streetnames100.SPACY_FR.items():\n",
    "for i in streetnames.SPACY_FR.items():\n",
    "    doc = nlp(i[1])\n",
    "    for token in doc:\n",
    "        #print(f\"{token.text:<20}\\t{token.lemma_:<20}\\t{token.pos_:<6}\\t{token.is_stop}\")\n",
    "        #streetnames100.loc[i[0], 'SPACY_DE_LEMMA'] = token.lemma_\n",
    "        streetnames.loc[i[0], 'SPACY_FR_LEMMA'] = token.lemma_\n"
   ]
  },
  {
   "cell_type": "markdown",
   "id": "ce7a97d7",
   "metadata": {},
   "source": [
    "### Named Entity Recognition (NER)\n",
    "Labelling named “real-world” objects, like persons, companies or locations."
   ]
  },
  {
   "cell_type": "code",
   "execution_count": 15,
   "id": "7abb7a51",
   "metadata": {},
   "outputs": [
    {
     "name": "stdout",
     "output_type": "stream",
     "text": [
      "CPU times: total: 19min 18s\n",
      "Wall time: 19min 22s\n"
     ]
    }
   ],
   "source": [
    "%%time\n",
    "\n",
    "#for i in streetnames100.SPACY_FR.items():\n",
    "for i in streetnames.SPACY_FR.items():\n",
    "    doc = nlp(i[1])\n",
    "    #print(i[0])\n",
    "    for ent in doc.ents:\n",
    "        #print(f\"{ent.text:<20}\\t{ent.label_:<3}\")\n",
    "        #streetnames100.loc[i[0], 'SPACY_DE_ENT'] = ent.label_\n",
    "        streetnames.loc[i[0], 'SPACY_FR_ENT'] = ent.label_"
   ]
  },
  {
   "cell_type": "markdown",
   "id": "342b2c23",
   "metadata": {},
   "source": [
    "## Check results"
   ]
  },
  {
   "cell_type": "code",
   "execution_count": 16,
   "id": "ccc19de3",
   "metadata": {},
   "outputs": [
    {
     "data": {
      "text/plain": [
       "SPACY_FR_ENT\n",
       "LOC      8593\n",
       "MISC     3042\n",
       "ORG      1571\n",
       "PER     14109\n",
       "Name: STR_ESID, dtype: int64"
      ]
     },
     "execution_count": 16,
     "metadata": {},
     "output_type": "execute_result"
    }
   ],
   "source": [
    "most_common = streetnames.groupby(\"SPACY_FR_ENT\").count()\n",
    "most_common.STR_ESID"
   ]
  },
  {
   "cell_type": "code",
   "execution_count": 17,
   "id": "4273f5e2",
   "metadata": {},
   "outputs": [
    {
     "data": {
      "text/plain": [
       "SPACY_DE_ENT\n",
       "LOC     10134\n",
       "MISC     1490\n",
       "ORG       840\n",
       "PER      6746\n",
       "Name: STR_ESID, dtype: int64"
      ]
     },
     "execution_count": 17,
     "metadata": {},
     "output_type": "execute_result"
    }
   ],
   "source": [
    "most_common = streetnames.groupby(\"SPACY_DE_ENT\").count()\n",
    "most_common.STR_ESID"
   ]
  },
  {
   "cell_type": "code",
   "execution_count": 18,
   "id": "207aae1d",
   "metadata": {},
   "outputs": [],
   "source": [
    "streetnames.to_csv('C:\\CAS_Arbeit\\cassda-zertifikatsarbeit\\Datapreparation\\spacy_out.csv', encoding='UTF-8-SIG', sep=';')"
   ]
  }
 ],
 "metadata": {
  "kernelspec": {
   "display_name": "Python 3 (ipykernel)",
   "language": "python",
   "name": "python3"
  },
  "language_info": {
   "codemirror_mode": {
    "name": "ipython",
    "version": 3
   },
   "file_extension": ".py",
   "mimetype": "text/x-python",
   "name": "python",
   "nbconvert_exporter": "python",
   "pygments_lexer": "ipython3",
   "version": "3.10.7"
  }
 },
 "nbformat": 4,
 "nbformat_minor": 5
}
