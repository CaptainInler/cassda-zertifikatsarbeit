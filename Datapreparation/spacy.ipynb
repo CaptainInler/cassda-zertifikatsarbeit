{
 "cells": [
  {
   "cell_type": "markdown",
   "id": "b346d71a",
   "metadata": {},
   "source": [
    "# Using spacy to remove stopwords, add lemma and entity\n"
   ]
  },
  {
   "cell_type": "markdown",
   "id": "11bebe53",
   "metadata": {},
   "source": [
    "## Load Dataset\n",
    "Load dataset created in ../Datapreparation/Extract_street_terms_from_street_names.ipynb"
   ]
  },
  {
   "cell_type": "code",
   "execution_count": 1,
   "id": "99ee6af6",
   "metadata": {},
   "outputs": [],
   "source": [
    "#Load all needed libraries\n",
    "import pandas as pd\n",
    "import spacy #Our NLP tools\n",
    "import de_core_news_md #!python -m spacy download de_core_news_md\n",
    "import fr_core_news_md #!python -m spacy download fr_core_news_md\n",
    "from IPython.display import Javascript\n",
    "from pandarallel import pandarallel\n",
    "import numpy as np"
   ]
  },
  {
   "cell_type": "code",
   "execution_count": 2,
   "id": "14462033",
   "metadata": {},
   "outputs": [
    {
     "data": {
      "text/plain": [
       "Index(['Unnamed: 0', 'STR_ESID', 'STN_LABEL', 'COM_FOSNR', 'COM_NAME',\n",
       "       'COM_CANTON', 'STR_OFFICIAL', 'STR_EASTING', 'STR_NORTHING',\n",
       "       'STN_LABEL_NO_BI', 'STN_LABEL_NO_TERMS', 'STR_TERMS', 'STR_PREPS',\n",
       "       'STN_LABEL_FINAL'],\n",
       "      dtype='object')"
      ]
     },
     "execution_count": 2,
     "metadata": {},
     "output_type": "execute_result"
    }
   ],
   "source": [
    "streetnames = pd.read_csv('streetnames.csv', encoding='UTF-8-SIG', sep=';')\n",
    "streetnames.columns"
   ]
  },
  {
   "cell_type": "code",
   "execution_count": 3,
   "id": "2dce233d",
   "metadata": {
    "jupyter": {
     "source_hidden": true
    },
    "tags": []
   },
   "outputs": [],
   "source": [
    "#Remove unused columns\n",
    "streetnames = streetnames.drop(['Unnamed: 0', 'COM_NAME', 'COM_CANTON','STR_EASTING', 'STR_NORTHING','COM_FOSNR',\n",
    "                        'STR_OFFICIAL','STR_TERMS', 'STR_PREPS', 'STN_LABEL_NO_BI', 'STN_LABEL_NO_TERMS'], axis=1)"
   ]
  },
  {
   "cell_type": "code",
   "execution_count": 4,
   "id": "d3187c8b",
   "metadata": {},
   "outputs": [
    {
     "name": "stdout",
     "output_type": "stream",
     "text": [
      "                 Missing Values\n",
      "STR_ESID                      0\n",
      "STN_LABEL                     0\n",
      "STN_LABEL_FINAL             415\n"
     ]
    }
   ],
   "source": [
    "#Drop nan\n",
    "missing_data = pd.DataFrame(\n",
    "    streetnames.isnull().sum(),\n",
    "    columns=['Missing Values'])\n",
    "\n",
    "print(missing_data)\n",
    "\n",
    "streetnames = streetnames.dropna()"
   ]
  },
  {
   "cell_type": "markdown",
   "id": "83d83f5e-9b8c-43c3-9838-3c2b5c8ad434",
   "metadata": {},
   "source": [
    "### Initialize System"
   ]
  },
  {
   "cell_type": "markdown",
   "id": "edd89744-0f71-43da-998c-75e838e67049",
   "metadata": {},
   "source": [
    "Create subset for e.g. for testing, since spacy is slow for larger datasets"
   ]
  },
  {
   "cell_type": "code",
   "execution_count": 5,
   "id": "b807ee65-3442-4a12-88bb-e5805cef98c3",
   "metadata": {},
   "outputs": [],
   "source": [
    "#streetnames = streetnames[:100].copy()"
   ]
  },
  {
   "cell_type": "code",
   "execution_count": 6,
   "id": "0cbc5a84-d1e3-43f4-b3ca-8dbb873b3ac4",
   "metadata": {},
   "outputs": [
    {
     "data": {
      "text/html": [
       "<div>\n",
       "<style scoped>\n",
       "    .dataframe tbody tr th:only-of-type {\n",
       "        vertical-align: middle;\n",
       "    }\n",
       "\n",
       "    .dataframe tbody tr th {\n",
       "        vertical-align: top;\n",
       "    }\n",
       "\n",
       "    .dataframe thead th {\n",
       "        text-align: right;\n",
       "    }\n",
       "</style>\n",
       "<table border=\"1\" class=\"dataframe\">\n",
       "  <thead>\n",
       "    <tr style=\"text-align: right;\">\n",
       "      <th></th>\n",
       "      <th>STR_ESID</th>\n",
       "      <th>STN_LABEL</th>\n",
       "      <th>STN_LABEL_FINAL</th>\n",
       "    </tr>\n",
       "  </thead>\n",
       "  <tbody>\n",
       "    <tr>\n",
       "      <th>0</th>\n",
       "      <td>10023770</td>\n",
       "      <td>Wiedenweg</td>\n",
       "      <td>Wieden</td>\n",
       "    </tr>\n",
       "    <tr>\n",
       "      <th>1</th>\n",
       "      <td>10179192</td>\n",
       "      <td>Wuhrbärgli</td>\n",
       "      <td>Wuhrbärgli</td>\n",
       "    </tr>\n",
       "    <tr>\n",
       "      <th>2</th>\n",
       "      <td>10140563</td>\n",
       "      <td>Emanuelenweg</td>\n",
       "      <td>Emanuelen</td>\n",
       "    </tr>\n",
       "    <tr>\n",
       "      <th>3</th>\n",
       "      <td>10069457</td>\n",
       "      <td>Löhrweg</td>\n",
       "      <td>Löhr</td>\n",
       "    </tr>\n",
       "    <tr>\n",
       "      <th>4</th>\n",
       "      <td>10096235</td>\n",
       "      <td>Brunngasse</td>\n",
       "      <td>Brunn</td>\n",
       "    </tr>\n",
       "  </tbody>\n",
       "</table>\n",
       "</div>"
      ],
      "text/plain": [
       "   STR_ESID     STN_LABEL STN_LABEL_FINAL\n",
       "0  10023770     Wiedenweg          Wieden\n",
       "1  10179192    Wuhrbärgli      Wuhrbärgli\n",
       "2  10140563  Emanuelenweg       Emanuelen\n",
       "3  10069457       Löhrweg            Löhr\n",
       "4  10096235    Brunngasse           Brunn"
      ]
     },
     "execution_count": 6,
     "metadata": {},
     "output_type": "execute_result"
    }
   ],
   "source": [
    "streetnames.head()"
   ]
  },
  {
   "cell_type": "markdown",
   "id": "b4944797-5c16-4176-bd9e-b510b1559941",
   "metadata": {},
   "source": [
    "Use of `pandarallel` to run query in parallel. This needs more CPU but is much faster."
   ]
  },
  {
   "cell_type": "code",
   "execution_count": 7,
   "id": "0f790417",
   "metadata": {},
   "outputs": [
    {
     "name": "stdout",
     "output_type": "stream",
     "text": [
      "INFO: Pandarallel will run on 4 workers.\n",
      "INFO: Pandarallel will use Memory file system to transfer data between the main process and workers.\n"
     ]
    }
   ],
   "source": [
    "pandarallel.initialize()\n",
    "#pandarallel.initialize(progress_bar=True)"
   ]
  },
  {
   "cell_type": "markdown",
   "id": "14b71d68",
   "metadata": {},
   "source": [
    "## Using spaCy Deutsch"
   ]
  },
  {
   "cell_type": "code",
   "execution_count": 8,
   "id": "c47313bf",
   "metadata": {},
   "outputs": [],
   "source": [
    "#Load a German language model to do NLP - the models we use will influence our results a lot\n",
    "nlp = spacy.load('de_core_news_md') #Change fr/de"
   ]
  },
  {
   "cell_type": "code",
   "execution_count": 9,
   "id": "38dbe97d",
   "metadata": {},
   "outputs": [],
   "source": [
    "stopwords = nlp.Defaults.stop_words\n",
    "\n",
    "#print(len(stopwords))\n",
    "#print(stopwords)"
   ]
  },
  {
   "cell_type": "markdown",
   "id": "aa08707e",
   "metadata": {},
   "source": [
    "### Remove stopwords"
   ]
  },
  {
   "cell_type": "code",
   "execution_count": 10,
   "id": "f86f828c",
   "metadata": {},
   "outputs": [],
   "source": [
    "streetnames['SPACY_DE'] = streetnames['STN_LABEL_FINAL'].str.split(' ')\n",
    "\n",
    "streetnames['SPACY_DE'] = streetnames['SPACY_DE'].apply(lambda x: [item for item in x if item not in stopwords])\n",
    "\n",
    "streetnames['SPACY_DE'] = streetnames['SPACY_DE'].str.join(' ')\n",
    "\n",
    "#Delete spaces at the beginning and end of the string using function 'strip()'\n",
    "streetnames['SPACY_DE'] = streetnames['SPACY_DE'].str.strip()"
   ]
  },
  {
   "cell_type": "markdown",
   "id": "d7b8a199",
   "metadata": {},
   "source": [
    "### Lemmatization\n",
    "Assigning the base forms of words. For example, the lemma of “was” is “be”, and the lemma of “rats” is “rat”."
   ]
  },
  {
   "cell_type": "code",
   "execution_count": 11,
   "id": "da92d2fd-a025-40f3-989d-0bf018e19c62",
   "metadata": {},
   "outputs": [],
   "source": [
    "def checkForLemma(num):\n",
    "    doc = nlp(num)\n",
    "    #print(len(doc))\n",
    "    if len(doc)>0:\n",
    "        return doc[0].lemma_"
   ]
  },
  {
   "cell_type": "markdown",
   "id": "e06d8804-a441-48b5-80a3-282b2909b64d",
   "metadata": {},
   "source": [
    "⚠ Attention: Following code may take a while (>5min..)  "
   ]
  },
  {
   "cell_type": "code",
   "execution_count": 12,
   "id": "98ae0173-bbf1-434d-97b7-6e9a05f87a47",
   "metadata": {},
   "outputs": [
    {
     "name": "stderr",
     "output_type": "stream",
     "text": [
      "/opt/conda/lib/python3.10/site-packages/pandarallel/data_types/series.py:16: FutureWarning: The behavior of `series[i:j]` with an integer-dtype index is deprecated. In a future version, this will be treated as *label-based* indexing, consistent with e.g. `series[i]` lookups. To retain the old behavior, use `series.iloc[i:j]`. To get the future behavior, use `series.loc[i:j]`.\n",
      "  yield data[chunk_]\n"
     ]
    },
    {
     "name": "stdout",
     "output_type": "stream",
     "text": [
      "Duration:  0:05:42.254822\n"
     ]
    }
   ],
   "source": [
    "import ipywidgets\n",
    "import datetime\n",
    "#pandarallel.initialize(progress_bar=True)\n",
    "starttime = datetime.datetime.now()\n",
    "\n",
    "streetnames[\"SPACY_DE_LEMMA\"] = streetnames[\"SPACY_DE\"].parallel_apply(checkForLemma)\n",
    "#streetnames[\"SPACY_DE_LEMMA\"] = streetnames[\"SPACY_DE\"].apply(checkForLemma)\n",
    "\n",
    "print (\"Duration: \", datetime.datetime.now()-starttime)"
   ]
  },
  {
   "cell_type": "code",
   "execution_count": 13,
   "id": "d24b1374-7ef7-4f51-a5fa-2e629215ac9b",
   "metadata": {},
   "outputs": [
    {
     "data": {
      "text/html": [
       "<div>\n",
       "<style scoped>\n",
       "    .dataframe tbody tr th:only-of-type {\n",
       "        vertical-align: middle;\n",
       "    }\n",
       "\n",
       "    .dataframe tbody tr th {\n",
       "        vertical-align: top;\n",
       "    }\n",
       "\n",
       "    .dataframe thead th {\n",
       "        text-align: right;\n",
       "    }\n",
       "</style>\n",
       "<table border=\"1\" class=\"dataframe\">\n",
       "  <thead>\n",
       "    <tr style=\"text-align: right;\">\n",
       "      <th></th>\n",
       "      <th>STR_ESID</th>\n",
       "      <th>STN_LABEL</th>\n",
       "      <th>STN_LABEL_FINAL</th>\n",
       "      <th>SPACY_DE</th>\n",
       "      <th>SPACY_DE_LEMMA</th>\n",
       "    </tr>\n",
       "  </thead>\n",
       "  <tbody>\n",
       "    <tr>\n",
       "      <th>0</th>\n",
       "      <td>10023770</td>\n",
       "      <td>Wiedenweg</td>\n",
       "      <td>Wieden</td>\n",
       "      <td>Wieden</td>\n",
       "      <td>Wieden</td>\n",
       "    </tr>\n",
       "    <tr>\n",
       "      <th>1</th>\n",
       "      <td>10179192</td>\n",
       "      <td>Wuhrbärgli</td>\n",
       "      <td>Wuhrbärgli</td>\n",
       "      <td>Wuhrbärgli</td>\n",
       "      <td>Wuhrbärgli</td>\n",
       "    </tr>\n",
       "    <tr>\n",
       "      <th>2</th>\n",
       "      <td>10140563</td>\n",
       "      <td>Emanuelenweg</td>\n",
       "      <td>Emanuelen</td>\n",
       "      <td>Emanuelen</td>\n",
       "      <td>Emanuel</td>\n",
       "    </tr>\n",
       "    <tr>\n",
       "      <th>3</th>\n",
       "      <td>10069457</td>\n",
       "      <td>Löhrweg</td>\n",
       "      <td>Löhr</td>\n",
       "      <td>Löhr</td>\n",
       "      <td>Löhr</td>\n",
       "    </tr>\n",
       "    <tr>\n",
       "      <th>4</th>\n",
       "      <td>10096235</td>\n",
       "      <td>Brunngasse</td>\n",
       "      <td>Brunn</td>\n",
       "      <td>Brunn</td>\n",
       "      <td>Brunn</td>\n",
       "    </tr>\n",
       "  </tbody>\n",
       "</table>\n",
       "</div>"
      ],
      "text/plain": [
       "   STR_ESID     STN_LABEL STN_LABEL_FINAL    SPACY_DE SPACY_DE_LEMMA\n",
       "0  10023770     Wiedenweg          Wieden      Wieden         Wieden\n",
       "1  10179192    Wuhrbärgli      Wuhrbärgli  Wuhrbärgli     Wuhrbärgli\n",
       "2  10140563  Emanuelenweg       Emanuelen   Emanuelen        Emanuel\n",
       "3  10069457       Löhrweg            Löhr        Löhr           Löhr\n",
       "4  10096235    Brunngasse           Brunn       Brunn          Brunn"
      ]
     },
     "execution_count": 13,
     "metadata": {},
     "output_type": "execute_result"
    }
   ],
   "source": [
    "streetnames.head()"
   ]
  },
  {
   "cell_type": "markdown",
   "id": "3079e96b",
   "metadata": {},
   "source": [
    "### Named Entity Recognition (NER)\n",
    "Labelling named “real-world” objects, like persons, companies or locations."
   ]
  },
  {
   "cell_type": "code",
   "execution_count": 14,
   "id": "ef3bef1a-2994-4681-a4f7-830ad5bd7333",
   "metadata": {},
   "outputs": [],
   "source": [
    "def checkForEntity(num):\n",
    "    doc = nlp(num)\n",
    "    #print(len(doc))\n",
    "    if doc.ents:\n",
    "        #print(num, \"ENT\")\n",
    "        for ent in doc.ents:\n",
    "            if len(num) == ent.end_char: #will be not equal if nlp did not recoginse a two word term as one entity. e.g.: General Guisan\n",
    "                return ent.label_"
   ]
  },
  {
   "cell_type": "markdown",
   "id": "a0938db9-361a-499f-a5d8-28d9468c2f8d",
   "metadata": {},
   "source": [
    "⚠ Attention: Following code may take a while (>5min..)  "
   ]
  },
  {
   "cell_type": "code",
   "execution_count": 15,
   "id": "865a49cc-b6e0-416c-bbb6-3cd5ef81d8f9",
   "metadata": {},
   "outputs": [
    {
     "name": "stderr",
     "output_type": "stream",
     "text": [
      "/opt/conda/lib/python3.10/site-packages/pandarallel/data_types/series.py:16: FutureWarning: The behavior of `series[i:j]` with an integer-dtype index is deprecated. In a future version, this will be treated as *label-based* indexing, consistent with e.g. `series[i]` lookups. To retain the old behavior, use `series.iloc[i:j]`. To get the future behavior, use `series.loc[i:j]`.\n",
      "  yield data[chunk_]\n"
     ]
    },
    {
     "name": "stdout",
     "output_type": "stream",
     "text": [
      "Duration:  0:05:16.167742\n"
     ]
    }
   ],
   "source": [
    "starttime = datetime.datetime.now()\n",
    "\n",
    "streetnames[\"SPACY_DE_ENT\"] = streetnames[\"SPACY_DE\"].parallel_apply(checkForEntity)\n",
    "#temp = streetnames[\"SPACY_DE\"].apply(checkForEntity)\n",
    "\n",
    "print (\"Duration: \", datetime.datetime.now()-starttime)"
   ]
  },
  {
   "cell_type": "code",
   "execution_count": 16,
   "id": "0610fc79-cf48-4ed9-8ae3-6e144544f429",
   "metadata": {},
   "outputs": [
    {
     "data": {
      "text/html": [
       "<div>\n",
       "<style scoped>\n",
       "    .dataframe tbody tr th:only-of-type {\n",
       "        vertical-align: middle;\n",
       "    }\n",
       "\n",
       "    .dataframe tbody tr th {\n",
       "        vertical-align: top;\n",
       "    }\n",
       "\n",
       "    .dataframe thead th {\n",
       "        text-align: right;\n",
       "    }\n",
       "</style>\n",
       "<table border=\"1\" class=\"dataframe\">\n",
       "  <thead>\n",
       "    <tr style=\"text-align: right;\">\n",
       "      <th></th>\n",
       "      <th>STR_ESID</th>\n",
       "      <th>STN_LABEL</th>\n",
       "      <th>STN_LABEL_FINAL</th>\n",
       "      <th>SPACY_DE</th>\n",
       "      <th>SPACY_DE_LEMMA</th>\n",
       "      <th>SPACY_DE_ENT</th>\n",
       "    </tr>\n",
       "  </thead>\n",
       "  <tbody>\n",
       "    <tr>\n",
       "      <th>0</th>\n",
       "      <td>10023770</td>\n",
       "      <td>Wiedenweg</td>\n",
       "      <td>Wieden</td>\n",
       "      <td>Wieden</td>\n",
       "      <td>Wieden</td>\n",
       "      <td>None</td>\n",
       "    </tr>\n",
       "    <tr>\n",
       "      <th>1</th>\n",
       "      <td>10179192</td>\n",
       "      <td>Wuhrbärgli</td>\n",
       "      <td>Wuhrbärgli</td>\n",
       "      <td>Wuhrbärgli</td>\n",
       "      <td>Wuhrbärgli</td>\n",
       "      <td>None</td>\n",
       "    </tr>\n",
       "    <tr>\n",
       "      <th>2</th>\n",
       "      <td>10140563</td>\n",
       "      <td>Emanuelenweg</td>\n",
       "      <td>Emanuelen</td>\n",
       "      <td>Emanuelen</td>\n",
       "      <td>Emanuel</td>\n",
       "      <td>None</td>\n",
       "    </tr>\n",
       "    <tr>\n",
       "      <th>3</th>\n",
       "      <td>10069457</td>\n",
       "      <td>Löhrweg</td>\n",
       "      <td>Löhr</td>\n",
       "      <td>Löhr</td>\n",
       "      <td>Löhr</td>\n",
       "      <td>None</td>\n",
       "    </tr>\n",
       "    <tr>\n",
       "      <th>4</th>\n",
       "      <td>10096235</td>\n",
       "      <td>Brunngasse</td>\n",
       "      <td>Brunn</td>\n",
       "      <td>Brunn</td>\n",
       "      <td>Brunn</td>\n",
       "      <td>None</td>\n",
       "    </tr>\n",
       "    <tr>\n",
       "      <th>5</th>\n",
       "      <td>10118344</td>\n",
       "      <td>Beckengässli</td>\n",
       "      <td>Becken</td>\n",
       "      <td>Becken</td>\n",
       "      <td>Becken</td>\n",
       "      <td>None</td>\n",
       "    </tr>\n",
       "    <tr>\n",
       "      <th>6</th>\n",
       "      <td>10103841</td>\n",
       "      <td>Poststrasse</td>\n",
       "      <td>Post</td>\n",
       "      <td>Post</td>\n",
       "      <td>Post</td>\n",
       "      <td>None</td>\n",
       "    </tr>\n",
       "    <tr>\n",
       "      <th>7</th>\n",
       "      <td>10103030</td>\n",
       "      <td>Bromhübelweg</td>\n",
       "      <td>Bromhübel</td>\n",
       "      <td>Bromhübel</td>\n",
       "      <td>Bromhübel</td>\n",
       "      <td>None</td>\n",
       "    </tr>\n",
       "    <tr>\n",
       "      <th>8</th>\n",
       "      <td>10108763</td>\n",
       "      <td>Zurlindenstrasse</td>\n",
       "      <td>Zurlinden</td>\n",
       "      <td>Zurlinden</td>\n",
       "      <td>zurlinden</td>\n",
       "      <td>None</td>\n",
       "    </tr>\n",
       "    <tr>\n",
       "      <th>9</th>\n",
       "      <td>10209066</td>\n",
       "      <td>Bergli</td>\n",
       "      <td>Bergli</td>\n",
       "      <td>Bergli</td>\n",
       "      <td>Bergli</td>\n",
       "      <td>None</td>\n",
       "    </tr>\n",
       "    <tr>\n",
       "      <th>10</th>\n",
       "      <td>10140400</td>\n",
       "      <td>Weihermattweg</td>\n",
       "      <td>Weihermatt</td>\n",
       "      <td>Weihermatt</td>\n",
       "      <td>Weihermatt</td>\n",
       "      <td>None</td>\n",
       "    </tr>\n",
       "    <tr>\n",
       "      <th>11</th>\n",
       "      <td>10087393</td>\n",
       "      <td>Schmalzgrubenstrasse</td>\n",
       "      <td>Schmalzgruben</td>\n",
       "      <td>Schmalzgruben</td>\n",
       "      <td>Schmalzgrube</td>\n",
       "      <td>None</td>\n",
       "    </tr>\n",
       "    <tr>\n",
       "      <th>12</th>\n",
       "      <td>10169078</td>\n",
       "      <td>Keltenweg</td>\n",
       "      <td>Kelten</td>\n",
       "      <td>Kelten</td>\n",
       "      <td>Kelt</td>\n",
       "      <td>None</td>\n",
       "    </tr>\n",
       "    <tr>\n",
       "      <th>13</th>\n",
       "      <td>10140859</td>\n",
       "      <td>Bielwegli</td>\n",
       "      <td>Biel</td>\n",
       "      <td>Biel</td>\n",
       "      <td>Biel</td>\n",
       "      <td>None</td>\n",
       "    </tr>\n",
       "    <tr>\n",
       "      <th>14</th>\n",
       "      <td>10161386</td>\n",
       "      <td>Waldweg</td>\n",
       "      <td>Wald</td>\n",
       "      <td>Wald</td>\n",
       "      <td>Wald</td>\n",
       "      <td>None</td>\n",
       "    </tr>\n",
       "    <tr>\n",
       "      <th>15</th>\n",
       "      <td>10027782</td>\n",
       "      <td>Neuweg</td>\n",
       "      <td>Neu</td>\n",
       "      <td>Neu</td>\n",
       "      <td>neu</td>\n",
       "      <td>None</td>\n",
       "    </tr>\n",
       "    <tr>\n",
       "      <th>16</th>\n",
       "      <td>10116694</td>\n",
       "      <td>Vogesenstrasse</td>\n",
       "      <td>Vogesen</td>\n",
       "      <td>Vogesen</td>\n",
       "      <td>Vogese</td>\n",
       "      <td>LOC</td>\n",
       "    </tr>\n",
       "    <tr>\n",
       "      <th>17</th>\n",
       "      <td>10142028</td>\n",
       "      <td>Wolfgalgenstutz</td>\n",
       "      <td>Wolfgalgenstutz</td>\n",
       "      <td>Wolfgalgenstutz</td>\n",
       "      <td>Wolfgalgenstutz</td>\n",
       "      <td>None</td>\n",
       "    </tr>\n",
       "    <tr>\n",
       "      <th>18</th>\n",
       "      <td>10155727</td>\n",
       "      <td>Angerweg</td>\n",
       "      <td>Anger</td>\n",
       "      <td>Anger</td>\n",
       "      <td>Anger</td>\n",
       "      <td>None</td>\n",
       "    </tr>\n",
       "    <tr>\n",
       "      <th>19</th>\n",
       "      <td>10142092</td>\n",
       "      <td>Chilchgässli</td>\n",
       "      <td>Chilch</td>\n",
       "      <td>Chilch</td>\n",
       "      <td>Chilch</td>\n",
       "      <td>None</td>\n",
       "    </tr>\n",
       "  </tbody>\n",
       "</table>\n",
       "</div>"
      ],
      "text/plain": [
       "    STR_ESID             STN_LABEL  STN_LABEL_FINAL         SPACY_DE  \\\n",
       "0   10023770             Wiedenweg           Wieden           Wieden   \n",
       "1   10179192            Wuhrbärgli       Wuhrbärgli       Wuhrbärgli   \n",
       "2   10140563          Emanuelenweg        Emanuelen        Emanuelen   \n",
       "3   10069457               Löhrweg             Löhr             Löhr   \n",
       "4   10096235            Brunngasse            Brunn            Brunn   \n",
       "5   10118344          Beckengässli           Becken           Becken   \n",
       "6   10103841           Poststrasse             Post             Post   \n",
       "7   10103030          Bromhübelweg        Bromhübel        Bromhübel   \n",
       "8   10108763      Zurlindenstrasse        Zurlinden        Zurlinden   \n",
       "9   10209066                Bergli           Bergli           Bergli   \n",
       "10  10140400         Weihermattweg       Weihermatt       Weihermatt   \n",
       "11  10087393  Schmalzgrubenstrasse    Schmalzgruben    Schmalzgruben   \n",
       "12  10169078             Keltenweg           Kelten           Kelten   \n",
       "13  10140859             Bielwegli             Biel             Biel   \n",
       "14  10161386               Waldweg             Wald             Wald   \n",
       "15  10027782                Neuweg              Neu              Neu   \n",
       "16  10116694        Vogesenstrasse          Vogesen          Vogesen   \n",
       "17  10142028       Wolfgalgenstutz  Wolfgalgenstutz  Wolfgalgenstutz   \n",
       "18  10155727              Angerweg            Anger            Anger   \n",
       "19  10142092          Chilchgässli           Chilch           Chilch   \n",
       "\n",
       "     SPACY_DE_LEMMA SPACY_DE_ENT  \n",
       "0            Wieden         None  \n",
       "1        Wuhrbärgli         None  \n",
       "2           Emanuel         None  \n",
       "3              Löhr         None  \n",
       "4             Brunn         None  \n",
       "5            Becken         None  \n",
       "6              Post         None  \n",
       "7         Bromhübel         None  \n",
       "8         zurlinden         None  \n",
       "9            Bergli         None  \n",
       "10       Weihermatt         None  \n",
       "11     Schmalzgrube         None  \n",
       "12             Kelt         None  \n",
       "13             Biel         None  \n",
       "14             Wald         None  \n",
       "15              neu         None  \n",
       "16           Vogese          LOC  \n",
       "17  Wolfgalgenstutz         None  \n",
       "18            Anger         None  \n",
       "19           Chilch         None  "
      ]
     },
     "execution_count": 16,
     "metadata": {},
     "output_type": "execute_result"
    }
   ],
   "source": [
    "streetnames.head(20)"
   ]
  },
  {
   "cell_type": "markdown",
   "id": "4da872d6",
   "metadata": {},
   "source": [
    "## Using spaCy Français"
   ]
  },
  {
   "cell_type": "code",
   "execution_count": 17,
   "id": "7942c2e0",
   "metadata": {},
   "outputs": [],
   "source": [
    "#Load a French language model to do NLP - the models we use will influence our results a lot\n",
    "nlp = spacy.load('fr_core_news_md') #Change fr/de"
   ]
  },
  {
   "cell_type": "code",
   "execution_count": 18,
   "id": "462a2064",
   "metadata": {},
   "outputs": [],
   "source": [
    "stopwords = nlp.Defaults.stop_words\n",
    "\n",
    "#print(len(stopwords))\n",
    "#print(stopwords)"
   ]
  },
  {
   "cell_type": "markdown",
   "id": "cb9d8954",
   "metadata": {},
   "source": [
    "### Remove stopwords"
   ]
  },
  {
   "cell_type": "code",
   "execution_count": 19,
   "id": "ebda8861",
   "metadata": {},
   "outputs": [],
   "source": [
    "streetnames['SPACY_FR'] = streetnames['STN_LABEL_FINAL'].str.split(' ')\n",
    "\n",
    "streetnames['SPACY_FR'] = streetnames['SPACY_FR'].apply(lambda x: [item for item in x if item not in stopwords])\n",
    "\n",
    "streetnames['SPACY_FR'] = streetnames['SPACY_FR'].str.join(' ')\n",
    "\n",
    "#Delete spaces at the beginning and end of the string using function 'strip()'\n",
    "streetnames['SPACY_FR'] = streetnames['SPACY_FR'].str.strip()"
   ]
  },
  {
   "cell_type": "code",
   "execution_count": 20,
   "id": "bb6ed906-4488-4274-8779-f793f190ee15",
   "metadata": {},
   "outputs": [
    {
     "data": {
      "text/html": [
       "<div>\n",
       "<style scoped>\n",
       "    .dataframe tbody tr th:only-of-type {\n",
       "        vertical-align: middle;\n",
       "    }\n",
       "\n",
       "    .dataframe tbody tr th {\n",
       "        vertical-align: top;\n",
       "    }\n",
       "\n",
       "    .dataframe thead th {\n",
       "        text-align: right;\n",
       "    }\n",
       "</style>\n",
       "<table border=\"1\" class=\"dataframe\">\n",
       "  <thead>\n",
       "    <tr style=\"text-align: right;\">\n",
       "      <th></th>\n",
       "      <th>STR_ESID</th>\n",
       "      <th>STN_LABEL</th>\n",
       "      <th>STN_LABEL_FINAL</th>\n",
       "      <th>SPACY_DE</th>\n",
       "      <th>SPACY_DE_LEMMA</th>\n",
       "      <th>SPACY_DE_ENT</th>\n",
       "      <th>SPACY_FR</th>\n",
       "    </tr>\n",
       "  </thead>\n",
       "  <tbody>\n",
       "    <tr>\n",
       "      <th>0</th>\n",
       "      <td>10023770</td>\n",
       "      <td>Wiedenweg</td>\n",
       "      <td>Wieden</td>\n",
       "      <td>Wieden</td>\n",
       "      <td>Wieden</td>\n",
       "      <td>None</td>\n",
       "      <td>Wieden</td>\n",
       "    </tr>\n",
       "    <tr>\n",
       "      <th>1</th>\n",
       "      <td>10179192</td>\n",
       "      <td>Wuhrbärgli</td>\n",
       "      <td>Wuhrbärgli</td>\n",
       "      <td>Wuhrbärgli</td>\n",
       "      <td>Wuhrbärgli</td>\n",
       "      <td>None</td>\n",
       "      <td>Wuhrbärgli</td>\n",
       "    </tr>\n",
       "    <tr>\n",
       "      <th>2</th>\n",
       "      <td>10140563</td>\n",
       "      <td>Emanuelenweg</td>\n",
       "      <td>Emanuelen</td>\n",
       "      <td>Emanuelen</td>\n",
       "      <td>Emanuel</td>\n",
       "      <td>None</td>\n",
       "      <td>Emanuelen</td>\n",
       "    </tr>\n",
       "    <tr>\n",
       "      <th>3</th>\n",
       "      <td>10069457</td>\n",
       "      <td>Löhrweg</td>\n",
       "      <td>Löhr</td>\n",
       "      <td>Löhr</td>\n",
       "      <td>Löhr</td>\n",
       "      <td>None</td>\n",
       "      <td>Löhr</td>\n",
       "    </tr>\n",
       "    <tr>\n",
       "      <th>4</th>\n",
       "      <td>10096235</td>\n",
       "      <td>Brunngasse</td>\n",
       "      <td>Brunn</td>\n",
       "      <td>Brunn</td>\n",
       "      <td>Brunn</td>\n",
       "      <td>None</td>\n",
       "      <td>Brunn</td>\n",
       "    </tr>\n",
       "  </tbody>\n",
       "</table>\n",
       "</div>"
      ],
      "text/plain": [
       "   STR_ESID     STN_LABEL STN_LABEL_FINAL    SPACY_DE SPACY_DE_LEMMA  \\\n",
       "0  10023770     Wiedenweg          Wieden      Wieden         Wieden   \n",
       "1  10179192    Wuhrbärgli      Wuhrbärgli  Wuhrbärgli     Wuhrbärgli   \n",
       "2  10140563  Emanuelenweg       Emanuelen   Emanuelen        Emanuel   \n",
       "3  10069457       Löhrweg            Löhr        Löhr           Löhr   \n",
       "4  10096235    Brunngasse           Brunn       Brunn          Brunn   \n",
       "\n",
       "  SPACY_DE_ENT    SPACY_FR  \n",
       "0         None      Wieden  \n",
       "1         None  Wuhrbärgli  \n",
       "2         None   Emanuelen  \n",
       "3         None        Löhr  \n",
       "4         None       Brunn  "
      ]
     },
     "execution_count": 20,
     "metadata": {},
     "output_type": "execute_result"
    }
   ],
   "source": [
    "streetnames.head()"
   ]
  },
  {
   "cell_type": "markdown",
   "id": "6f8af20a",
   "metadata": {},
   "source": [
    "### Lemmatization\n",
    "Assigning the base forms of words. For example, the lemma of “was” is “be”, and the lemma of “rats” is “rat”."
   ]
  },
  {
   "cell_type": "markdown",
   "id": "a0d2b59c-138d-4807-bf28-aac413bbd053",
   "metadata": {},
   "source": [
    "⚠ Attention: Following code may take a while (>5min..)  "
   ]
  },
  {
   "cell_type": "code",
   "execution_count": 28,
   "id": "9da5e393-bba7-404d-8804-ca09f0589064",
   "metadata": {},
   "outputs": [
    {
     "name": "stderr",
     "output_type": "stream",
     "text": [
      "/opt/conda/lib/python3.10/site-packages/pandarallel/data_types/series.py:16: FutureWarning: The behavior of `series[i:j]` with an integer-dtype index is deprecated. In a future version, this will be treated as *label-based* indexing, consistent with e.g. `series[i]` lookups. To retain the old behavior, use `series.iloc[i:j]`. To get the future behavior, use `series.loc[i:j]`.\n",
      "  yield data[chunk_]\n"
     ]
    },
    {
     "name": "stdout",
     "output_type": "stream",
     "text": [
      "Duration:  0:05:22.379907\n"
     ]
    }
   ],
   "source": [
    "starttime = datetime.datetime.now()\n",
    "\n",
    "streetnames[\"SPACY_FR_LEMMA\"] = streetnames[\"SPACY_FR\"].parallel_apply(checkForLemma)\n",
    "#temp = streetnames[\"SPACY_DE\"].apply(checkForEntity)\n",
    "\n",
    "print (\"Duration: \", datetime.datetime.now()-starttime)"
   ]
  },
  {
   "cell_type": "markdown",
   "id": "ce7a97d7",
   "metadata": {},
   "source": [
    "### Named Entity Recognition (NER)\n",
    "Labelling named “real-world” objects, like persons, companies or locations."
   ]
  },
  {
   "cell_type": "markdown",
   "id": "70d800e7-4f8f-4102-8c9f-8e153276b0bc",
   "metadata": {},
   "source": [
    "⚠ Attention: Following code may take a while (>5min..)  "
   ]
  },
  {
   "cell_type": "code",
   "execution_count": 22,
   "id": "ec403666-72d7-4acb-9c56-42cc52654e51",
   "metadata": {},
   "outputs": [
    {
     "name": "stderr",
     "output_type": "stream",
     "text": [
      "/opt/conda/lib/python3.10/site-packages/pandarallel/data_types/series.py:16: FutureWarning: The behavior of `series[i:j]` with an integer-dtype index is deprecated. In a future version, this will be treated as *label-based* indexing, consistent with e.g. `series[i]` lookups. To retain the old behavior, use `series.iloc[i:j]`. To get the future behavior, use `series.loc[i:j]`.\n",
      "  yield data[chunk_]\n"
     ]
    },
    {
     "name": "stdout",
     "output_type": "stream",
     "text": [
      "Duration:  0:05:10.791635\n"
     ]
    }
   ],
   "source": [
    "starttime = datetime.datetime.now()\n",
    "\n",
    "streetnames[\"SPACY_FR_ENT\"] = streetnames[\"SPACY_FR\"].parallel_apply(checkForEntity)\n",
    "#temp = streetnames[\"SPACY_DE\"].apply(checkForEntity)\n",
    "\n",
    "print (\"Duration: \", datetime.datetime.now()-starttime)"
   ]
  },
  {
   "cell_type": "code",
   "execution_count": 23,
   "id": "a719f93b-c754-4946-8f99-efe30119f013",
   "metadata": {},
   "outputs": [
    {
     "data": {
      "text/html": [
       "<div>\n",
       "<style scoped>\n",
       "    .dataframe tbody tr th:only-of-type {\n",
       "        vertical-align: middle;\n",
       "    }\n",
       "\n",
       "    .dataframe tbody tr th {\n",
       "        vertical-align: top;\n",
       "    }\n",
       "\n",
       "    .dataframe thead th {\n",
       "        text-align: right;\n",
       "    }\n",
       "</style>\n",
       "<table border=\"1\" class=\"dataframe\">\n",
       "  <thead>\n",
       "    <tr style=\"text-align: right;\">\n",
       "      <th></th>\n",
       "      <th>STR_ESID</th>\n",
       "      <th>STN_LABEL</th>\n",
       "      <th>STN_LABEL_FINAL</th>\n",
       "      <th>SPACY_DE</th>\n",
       "      <th>SPACY_DE_LEMMA</th>\n",
       "      <th>SPACY_DE_ENT</th>\n",
       "      <th>SPACY_FR</th>\n",
       "      <th>SPACY_FR_LEMMA</th>\n",
       "      <th>SPACY_FR_ENT</th>\n",
       "    </tr>\n",
       "  </thead>\n",
       "  <tbody>\n",
       "    <tr>\n",
       "      <th>0</th>\n",
       "      <td>10023770</td>\n",
       "      <td>Wiedenweg</td>\n",
       "      <td>Wieden</td>\n",
       "      <td>Wieden</td>\n",
       "      <td>Wieden</td>\n",
       "      <td>None</td>\n",
       "      <td>Wieden</td>\n",
       "      <td>None</td>\n",
       "      <td>None</td>\n",
       "    </tr>\n",
       "    <tr>\n",
       "      <th>1</th>\n",
       "      <td>10179192</td>\n",
       "      <td>Wuhrbärgli</td>\n",
       "      <td>Wuhrbärgli</td>\n",
       "      <td>Wuhrbärgli</td>\n",
       "      <td>Wuhrbärgli</td>\n",
       "      <td>None</td>\n",
       "      <td>Wuhrbärgli</td>\n",
       "      <td>None</td>\n",
       "      <td>None</td>\n",
       "    </tr>\n",
       "    <tr>\n",
       "      <th>2</th>\n",
       "      <td>10140563</td>\n",
       "      <td>Emanuelenweg</td>\n",
       "      <td>Emanuelen</td>\n",
       "      <td>Emanuelen</td>\n",
       "      <td>Emanuel</td>\n",
       "      <td>None</td>\n",
       "      <td>Emanuelen</td>\n",
       "      <td>None</td>\n",
       "      <td>None</td>\n",
       "    </tr>\n",
       "    <tr>\n",
       "      <th>3</th>\n",
       "      <td>10069457</td>\n",
       "      <td>Löhrweg</td>\n",
       "      <td>Löhr</td>\n",
       "      <td>Löhr</td>\n",
       "      <td>Löhr</td>\n",
       "      <td>None</td>\n",
       "      <td>Löhr</td>\n",
       "      <td>PER</td>\n",
       "      <td>PER</td>\n",
       "    </tr>\n",
       "    <tr>\n",
       "      <th>4</th>\n",
       "      <td>10096235</td>\n",
       "      <td>Brunngasse</td>\n",
       "      <td>Brunn</td>\n",
       "      <td>Brunn</td>\n",
       "      <td>Brunn</td>\n",
       "      <td>None</td>\n",
       "      <td>Brunn</td>\n",
       "      <td>None</td>\n",
       "      <td>None</td>\n",
       "    </tr>\n",
       "    <tr>\n",
       "      <th>5</th>\n",
       "      <td>10118344</td>\n",
       "      <td>Beckengässli</td>\n",
       "      <td>Becken</td>\n",
       "      <td>Becken</td>\n",
       "      <td>Becken</td>\n",
       "      <td>None</td>\n",
       "      <td>Becken</td>\n",
       "      <td>None</td>\n",
       "      <td>None</td>\n",
       "    </tr>\n",
       "    <tr>\n",
       "      <th>6</th>\n",
       "      <td>10103841</td>\n",
       "      <td>Poststrasse</td>\n",
       "      <td>Post</td>\n",
       "      <td>Post</td>\n",
       "      <td>Post</td>\n",
       "      <td>None</td>\n",
       "      <td>Post</td>\n",
       "      <td>None</td>\n",
       "      <td>None</td>\n",
       "    </tr>\n",
       "    <tr>\n",
       "      <th>7</th>\n",
       "      <td>10103030</td>\n",
       "      <td>Bromhübelweg</td>\n",
       "      <td>Bromhübel</td>\n",
       "      <td>Bromhübel</td>\n",
       "      <td>Bromhübel</td>\n",
       "      <td>None</td>\n",
       "      <td>Bromhübel</td>\n",
       "      <td>None</td>\n",
       "      <td>None</td>\n",
       "    </tr>\n",
       "    <tr>\n",
       "      <th>8</th>\n",
       "      <td>10108763</td>\n",
       "      <td>Zurlindenstrasse</td>\n",
       "      <td>Zurlinden</td>\n",
       "      <td>Zurlinden</td>\n",
       "      <td>zurlinden</td>\n",
       "      <td>None</td>\n",
       "      <td>Zurlinden</td>\n",
       "      <td>None</td>\n",
       "      <td>None</td>\n",
       "    </tr>\n",
       "    <tr>\n",
       "      <th>9</th>\n",
       "      <td>10209066</td>\n",
       "      <td>Bergli</td>\n",
       "      <td>Bergli</td>\n",
       "      <td>Bergli</td>\n",
       "      <td>Bergli</td>\n",
       "      <td>None</td>\n",
       "      <td>Bergli</td>\n",
       "      <td>None</td>\n",
       "      <td>None</td>\n",
       "    </tr>\n",
       "    <tr>\n",
       "      <th>10</th>\n",
       "      <td>10140400</td>\n",
       "      <td>Weihermattweg</td>\n",
       "      <td>Weihermatt</td>\n",
       "      <td>Weihermatt</td>\n",
       "      <td>Weihermatt</td>\n",
       "      <td>None</td>\n",
       "      <td>Weihermatt</td>\n",
       "      <td>None</td>\n",
       "      <td>None</td>\n",
       "    </tr>\n",
       "    <tr>\n",
       "      <th>11</th>\n",
       "      <td>10087393</td>\n",
       "      <td>Schmalzgrubenstrasse</td>\n",
       "      <td>Schmalzgruben</td>\n",
       "      <td>Schmalzgruben</td>\n",
       "      <td>Schmalzgrube</td>\n",
       "      <td>None</td>\n",
       "      <td>Schmalzgruben</td>\n",
       "      <td>None</td>\n",
       "      <td>None</td>\n",
       "    </tr>\n",
       "    <tr>\n",
       "      <th>12</th>\n",
       "      <td>10169078</td>\n",
       "      <td>Keltenweg</td>\n",
       "      <td>Kelten</td>\n",
       "      <td>Kelten</td>\n",
       "      <td>Kelt</td>\n",
       "      <td>None</td>\n",
       "      <td>Kelten</td>\n",
       "      <td>None</td>\n",
       "      <td>None</td>\n",
       "    </tr>\n",
       "    <tr>\n",
       "      <th>13</th>\n",
       "      <td>10140859</td>\n",
       "      <td>Bielwegli</td>\n",
       "      <td>Biel</td>\n",
       "      <td>Biel</td>\n",
       "      <td>Biel</td>\n",
       "      <td>None</td>\n",
       "      <td>Biel</td>\n",
       "      <td>None</td>\n",
       "      <td>None</td>\n",
       "    </tr>\n",
       "    <tr>\n",
       "      <th>14</th>\n",
       "      <td>10161386</td>\n",
       "      <td>Waldweg</td>\n",
       "      <td>Wald</td>\n",
       "      <td>Wald</td>\n",
       "      <td>Wald</td>\n",
       "      <td>None</td>\n",
       "      <td>Wald</td>\n",
       "      <td>None</td>\n",
       "      <td>None</td>\n",
       "    </tr>\n",
       "    <tr>\n",
       "      <th>15</th>\n",
       "      <td>10027782</td>\n",
       "      <td>Neuweg</td>\n",
       "      <td>Neu</td>\n",
       "      <td>Neu</td>\n",
       "      <td>neu</td>\n",
       "      <td>None</td>\n",
       "      <td>Neu</td>\n",
       "      <td>None</td>\n",
       "      <td>None</td>\n",
       "    </tr>\n",
       "    <tr>\n",
       "      <th>16</th>\n",
       "      <td>10116694</td>\n",
       "      <td>Vogesenstrasse</td>\n",
       "      <td>Vogesen</td>\n",
       "      <td>Vogesen</td>\n",
       "      <td>Vogese</td>\n",
       "      <td>LOC</td>\n",
       "      <td>Vogesen</td>\n",
       "      <td>None</td>\n",
       "      <td>None</td>\n",
       "    </tr>\n",
       "    <tr>\n",
       "      <th>17</th>\n",
       "      <td>10142028</td>\n",
       "      <td>Wolfgalgenstutz</td>\n",
       "      <td>Wolfgalgenstutz</td>\n",
       "      <td>Wolfgalgenstutz</td>\n",
       "      <td>Wolfgalgenstutz</td>\n",
       "      <td>None</td>\n",
       "      <td>Wolfgalgenstutz</td>\n",
       "      <td>None</td>\n",
       "      <td>None</td>\n",
       "    </tr>\n",
       "    <tr>\n",
       "      <th>18</th>\n",
       "      <td>10155727</td>\n",
       "      <td>Angerweg</td>\n",
       "      <td>Anger</td>\n",
       "      <td>Anger</td>\n",
       "      <td>Anger</td>\n",
       "      <td>None</td>\n",
       "      <td>Anger</td>\n",
       "      <td>None</td>\n",
       "      <td>None</td>\n",
       "    </tr>\n",
       "    <tr>\n",
       "      <th>19</th>\n",
       "      <td>10142092</td>\n",
       "      <td>Chilchgässli</td>\n",
       "      <td>Chilch</td>\n",
       "      <td>Chilch</td>\n",
       "      <td>Chilch</td>\n",
       "      <td>None</td>\n",
       "      <td>Chilch</td>\n",
       "      <td>None</td>\n",
       "      <td>None</td>\n",
       "    </tr>\n",
       "  </tbody>\n",
       "</table>\n",
       "</div>"
      ],
      "text/plain": [
       "    STR_ESID             STN_LABEL  STN_LABEL_FINAL         SPACY_DE  \\\n",
       "0   10023770             Wiedenweg           Wieden           Wieden   \n",
       "1   10179192            Wuhrbärgli       Wuhrbärgli       Wuhrbärgli   \n",
       "2   10140563          Emanuelenweg        Emanuelen        Emanuelen   \n",
       "3   10069457               Löhrweg             Löhr             Löhr   \n",
       "4   10096235            Brunngasse            Brunn            Brunn   \n",
       "5   10118344          Beckengässli           Becken           Becken   \n",
       "6   10103841           Poststrasse             Post             Post   \n",
       "7   10103030          Bromhübelweg        Bromhübel        Bromhübel   \n",
       "8   10108763      Zurlindenstrasse        Zurlinden        Zurlinden   \n",
       "9   10209066                Bergli           Bergli           Bergli   \n",
       "10  10140400         Weihermattweg       Weihermatt       Weihermatt   \n",
       "11  10087393  Schmalzgrubenstrasse    Schmalzgruben    Schmalzgruben   \n",
       "12  10169078             Keltenweg           Kelten           Kelten   \n",
       "13  10140859             Bielwegli             Biel             Biel   \n",
       "14  10161386               Waldweg             Wald             Wald   \n",
       "15  10027782                Neuweg              Neu              Neu   \n",
       "16  10116694        Vogesenstrasse          Vogesen          Vogesen   \n",
       "17  10142028       Wolfgalgenstutz  Wolfgalgenstutz  Wolfgalgenstutz   \n",
       "18  10155727              Angerweg            Anger            Anger   \n",
       "19  10142092          Chilchgässli           Chilch           Chilch   \n",
       "\n",
       "     SPACY_DE_LEMMA SPACY_DE_ENT         SPACY_FR SPACY_FR_LEMMA SPACY_FR_ENT  \n",
       "0            Wieden         None           Wieden           None         None  \n",
       "1        Wuhrbärgli         None       Wuhrbärgli           None         None  \n",
       "2           Emanuel         None        Emanuelen           None         None  \n",
       "3              Löhr         None             Löhr            PER          PER  \n",
       "4             Brunn         None            Brunn           None         None  \n",
       "5            Becken         None           Becken           None         None  \n",
       "6              Post         None             Post           None         None  \n",
       "7         Bromhübel         None        Bromhübel           None         None  \n",
       "8         zurlinden         None        Zurlinden           None         None  \n",
       "9            Bergli         None           Bergli           None         None  \n",
       "10       Weihermatt         None       Weihermatt           None         None  \n",
       "11     Schmalzgrube         None    Schmalzgruben           None         None  \n",
       "12             Kelt         None           Kelten           None         None  \n",
       "13             Biel         None             Biel           None         None  \n",
       "14             Wald         None             Wald           None         None  \n",
       "15              neu         None              Neu           None         None  \n",
       "16           Vogese          LOC          Vogesen           None         None  \n",
       "17  Wolfgalgenstutz         None  Wolfgalgenstutz           None         None  \n",
       "18            Anger         None            Anger           None         None  \n",
       "19           Chilch         None           Chilch           None         None  "
      ]
     },
     "execution_count": 23,
     "metadata": {},
     "output_type": "execute_result"
    }
   ],
   "source": [
    "streetnames.head(20)"
   ]
  },
  {
   "cell_type": "markdown",
   "id": "342b2c23",
   "metadata": {},
   "source": [
    "## Check results"
   ]
  },
  {
   "cell_type": "code",
   "execution_count": 24,
   "id": "ccc19de3",
   "metadata": {},
   "outputs": [
    {
     "data": {
      "text/plain": [
       "SPACY_FR_ENT\n",
       "LOC      7458\n",
       "MISC     2417\n",
       "ORG      1425\n",
       "PER     13298\n",
       "Name: STR_ESID, dtype: int64"
      ]
     },
     "execution_count": 24,
     "metadata": {},
     "output_type": "execute_result"
    }
   ],
   "source": [
    "most_common = streetnames.groupby(\"SPACY_FR_ENT\").count()\n",
    "most_common.STR_ESID"
   ]
  },
  {
   "cell_type": "code",
   "execution_count": 25,
   "id": "4273f5e2",
   "metadata": {},
   "outputs": [
    {
     "data": {
      "text/plain": [
       "SPACY_DE_ENT\n",
       "LOC     9831\n",
       "MISC    1302\n",
       "ORG      774\n",
       "PER     6465\n",
       "Name: STR_ESID, dtype: int64"
      ]
     },
     "execution_count": 25,
     "metadata": {},
     "output_type": "execute_result"
    }
   ],
   "source": [
    "most_common = streetnames.groupby(\"SPACY_DE_ENT\").count()\n",
    "most_common.STR_ESID"
   ]
  },
  {
   "cell_type": "code",
   "execution_count": 30,
   "id": "207aae1d",
   "metadata": {},
   "outputs": [],
   "source": [
    "streetnames.to_csv('spacy_out.csv', encoding='UTF-8-SIG', sep=';')"
   ]
  },
  {
   "cell_type": "code",
   "execution_count": null,
   "id": "8a5f5898-1327-4a3f-b851-f8cc3097d0b6",
   "metadata": {},
   "outputs": [],
   "source": []
  }
 ],
 "metadata": {
  "kernelspec": {
   "display_name": "Python 3 (ipykernel)",
   "language": "python",
   "name": "python3"
  },
  "language_info": {
   "codemirror_mode": {
    "name": "ipython",
    "version": 3
   },
   "file_extension": ".py",
   "mimetype": "text/x-python",
   "name": "python",
   "nbconvert_exporter": "python",
   "pygments_lexer": "ipython3",
   "version": "3.10.6"
  }
 },
 "nbformat": 4,
 "nbformat_minor": 5
}
