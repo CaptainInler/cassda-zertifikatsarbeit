{
 "cells": [
  {
   "cell_type": "markdown",
   "id": "17c22f0a-0548-4f34-be3b-bcb06b12edd9",
   "metadata": {},
   "source": [
    "# Data understanding\n",
    "In diesem Notebook werden die für diese Arbeit potentiel wichtigen Informationen in Wikidata explorativ begutachtet.  \n",
    "Der Code ruf die Daten mittels [Wikidata Query Service](https://query.wikidata.org/) ab.\n",
    "\n",
    "In diesem Notebooks soll herausgefunden werden, welche Strassen in Basel in Wikidata erfasst sind. Dies hat zwei Ziele:\n",
    "1. Wie kann der Wikidata Query Service mittels Python angesprochen werden. Dies ist wichtig da später die Strassennamen mit den Einträgen in Wikidata abgeglichen weden sollen.\n",
    "2. Sind bereits Strassen in Basel in Wikidata erfasst und besitzen die gegebenfalls bereits eine verlinkung zu dem namensgebenden Objekt. Dies könnte interessant sein, da die Informationen für eine Qualitätskontrolle des Abgleichprozesses genutzt werden könnten."
   ]
  },
  {
   "cell_type": "markdown",
   "id": "850ebb0d-0f1d-41b8-956b-34bf989bbf54",
   "metadata": {},
   "source": [
    "## Strassen mit Wikidata in Basel in OSM\n",
    "In Wikidata ist es nicht so einfach alle Strassen oder alle Objekte in Basel zu finden, da es keine direkte geografische Abfrage gibt (oder sie ist den Autoren zumindest nicht bekannt). Es kann nur abgefragt werden, welche Strassen ein Statement \"liegt in Basel\" vergeben wurde, wobei für Basel theoretisch sowohl die Stadt als auch der Kanton verwendet werden kann.  \n",
    "Deshal wird zuerst überprüft, ob allenfalls in OpenStreetMap bereits Strassen im Kanton Basel mit einem [Wikidata Key](https://wiki.openstreetmap.org/wiki/Key:wikidata) versehen sind.\n"
   ]
  },
  {
   "cell_type": "code",
   "execution_count": 1,
   "id": "368d4601-ce2e-43c7-a385-1c6599d4d69b",
   "metadata": {},
   "outputs": [
    {
     "name": "stdout",
     "output_type": "stream",
     "text": [
      "<Response [200]>\n"
     ]
    }
   ],
   "source": [
    "import requests\n",
    "\n",
    "#overpass_url = \"http://overpass-api.de/api/interpreter\"\n",
    "overpass_url = \"https://lz4.overpass-api.de/api/interpreter\"\n",
    "overpass_query = \"\"\"\n",
    "[out:json];\n",
    "area[\"ISO3166-2\"=\"CH-BS\"];\n",
    "(\n",
    "nwr[\"wikidata\"][\"highway\"](area);\n",
    ");\n",
    "out body;\n",
    "\"\"\"\n",
    "\n",
    "response = requests.get(overpass_url, data = overpass_query)\n",
    "print(response)"
   ]
  },
  {
   "cell_type": "code",
   "execution_count": 2,
   "id": "77aad2d7-b2ea-406e-b51c-c9f3859ab0b1",
   "metadata": {},
   "outputs": [],
   "source": [
    "data = response.json()\n",
    "#print(data)"
   ]
  },
  {
   "cell_type": "code",
   "execution_count": 3,
   "id": "627f6f39-135e-49e9-b2bd-db5a8e4aba63",
   "metadata": {},
   "outputs": [
    {
     "name": "stdout",
     "output_type": "stream",
     "text": [
      "<class 'dict'>\n"
     ]
    }
   ],
   "source": [
    "print(type(data))"
   ]
  },
  {
   "cell_type": "code",
   "execution_count": 4,
   "id": "d063bcf0-45df-4a26-a674-4a293241f7e1",
   "metadata": {},
   "outputs": [
    {
     "data": {
      "text/html": [
       "<div>\n",
       "<style scoped>\n",
       "    .dataframe tbody tr th:only-of-type {\n",
       "        vertical-align: middle;\n",
       "    }\n",
       "\n",
       "    .dataframe tbody tr th {\n",
       "        vertical-align: top;\n",
       "    }\n",
       "\n",
       "    .dataframe thead th {\n",
       "        text-align: right;\n",
       "    }\n",
       "</style>\n",
       "<table border=\"1\" class=\"dataframe\">\n",
       "  <thead>\n",
       "    <tr style=\"text-align: right;\">\n",
       "      <th></th>\n",
       "      <th>version</th>\n",
       "      <th>generator</th>\n",
       "      <th>elements</th>\n",
       "      <th>osm3s.timestamp_osm_base</th>\n",
       "      <th>osm3s.timestamp_areas_base</th>\n",
       "      <th>osm3s.copyright</th>\n",
       "    </tr>\n",
       "  </thead>\n",
       "  <tbody>\n",
       "    <tr>\n",
       "      <th>0</th>\n",
       "      <td>0.6</td>\n",
       "      <td>Overpass API 0.7.58.5 b0c4acbb</td>\n",
       "      <td>{'type': 'way', 'id': 4303427, 'nodes': [10757...</td>\n",
       "      <td>2022-10-02T18:40:40Z</td>\n",
       "      <td>2022-07-20T10:48:09Z</td>\n",
       "      <td>The data included in this document is from www...</td>\n",
       "    </tr>\n",
       "    <tr>\n",
       "      <th>1</th>\n",
       "      <td>0.6</td>\n",
       "      <td>Overpass API 0.7.58.5 b0c4acbb</td>\n",
       "      <td>{'type': 'way', 'id': 4803840, 'nodes': [30827...</td>\n",
       "      <td>2022-10-02T18:40:40Z</td>\n",
       "      <td>2022-07-20T10:48:09Z</td>\n",
       "      <td>The data included in this document is from www...</td>\n",
       "    </tr>\n",
       "  </tbody>\n",
       "</table>\n",
       "</div>"
      ],
      "text/plain": [
       "   version                       generator  \\\n",
       "0      0.6  Overpass API 0.7.58.5 b0c4acbb   \n",
       "1      0.6  Overpass API 0.7.58.5 b0c4acbb   \n",
       "\n",
       "                                            elements osm3s.timestamp_osm_base  \\\n",
       "0  {'type': 'way', 'id': 4303427, 'nodes': [10757...     2022-10-02T18:40:40Z   \n",
       "1  {'type': 'way', 'id': 4803840, 'nodes': [30827...     2022-10-02T18:40:40Z   \n",
       "\n",
       "  osm3s.timestamp_areas_base  \\\n",
       "0       2022-07-20T10:48:09Z   \n",
       "1       2022-07-20T10:48:09Z   \n",
       "\n",
       "                                     osm3s.copyright  \n",
       "0  The data included in this document is from www...  \n",
       "1  The data included in this document is from www...  "
      ]
     },
     "execution_count": 4,
     "metadata": {},
     "output_type": "execute_result"
    }
   ],
   "source": [
    "import pandas as pd\n",
    "df = pd.json_normalize(data).explode('elements').reset_index(drop=True)\n",
    "df.head(2)"
   ]
  },
  {
   "cell_type": "code",
   "execution_count": null,
   "id": "21a944b8-edff-48ff-b2c4-6b2edf3e552e",
   "metadata": {},
   "outputs": [],
   "source": []
  },
  {
   "cell_type": "markdown",
   "id": "e4ef45f1-f3e8-4f6b-be63-b521bb9524c5",
   "metadata": {},
   "source": [
    "endpoint_url = \"https://query.wikidata.org/sparql\""
   ]
  },
  {
   "cell_type": "markdown",
   "id": "4785552d-d289-4335-95ec-d1ebc1615b8f",
   "metadata": {},
   "source": [
    "query = \"\"\"SELECT ?nativename ?streetkey WHERE {\n",
    "\t\t\t\t?streetname wdt:P1945 ?streetkey;\n",
    "\t\t\t\twdt:P131 wd:Q72;\n",
    "\t\t\t\twdt:P1705 ?nativename.\n",
    "\t\t\t\tSERVICE wikibase:label { bd:serviceParam wikibase:language \"de\" . } \n",
    "\t\t\t\t}\"\"\""
   ]
  }
 ],
 "metadata": {
  "kernelspec": {
   "display_name": "Python 3 (ipykernel)",
   "language": "python",
   "name": "python3"
  },
  "language_info": {
   "codemirror_mode": {
    "name": "ipython",
    "version": 3
   },
   "file_extension": ".py",
   "mimetype": "text/x-python",
   "name": "python",
   "nbconvert_exporter": "python",
   "pygments_lexer": "ipython3",
   "version": "3.10.6"
  }
 },
 "nbformat": 4,
 "nbformat_minor": 5
}
