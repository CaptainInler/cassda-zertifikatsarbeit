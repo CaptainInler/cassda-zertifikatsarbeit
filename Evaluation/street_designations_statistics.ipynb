{
 "cells": [
  {
   "cell_type": "markdown",
   "id": "d3e656aa",
   "metadata": {},
   "source": [
    "# Creating statistics of street designations "
   ]
  },
  {
   "cell_type": "markdown",
   "id": "1c53ada7",
   "metadata": {},
   "source": [
    "## Load libraries and data"
   ]
  },
  {
   "cell_type": "code",
   "execution_count": 1,
   "id": "4bc5c62d",
   "metadata": {},
   "outputs": [],
   "source": [
    "import pandas as pd\n",
    "import geopandas"
   ]
  },
  {
   "cell_type": "markdown",
   "id": "b9905116",
   "metadata": {},
   "source": [
    "<font color='red'>WARNING</font> streets_geom (pure_line.geojson) file is 450 MByte and takes a couple of min to load"
   ]
  },
  {
   "cell_type": "code",
   "execution_count": 2,
   "id": "82df7f76",
   "metadata": {},
   "outputs": [],
   "source": [
    "# Street name designations\n",
    "streetnames = pd.read_csv('../Datapreparation/streetnames.csv', encoding='UTF-8-SIG', sep=';')\n",
    "\n",
    "# Street name geometries\n",
    "streets_geom = geopandas.read_file('data/pure_line.geojson')\n",
    "\n",
    "# Communes data\n",
    "com = pd.read_csv('data/gmde_info.csv', encoding='UTF-8-SIG', sep=';')\n",
    "\n",
    "# Communes geometries\n",
    "com_geom = geopandas.read_file('data/gemeinden.geojson')"
   ]
  },
  {
   "cell_type": "markdown",
   "id": "6a61bd42",
   "metadata": {},
   "source": [
    "## Merging datasets"
   ]
  },
  {
   "cell_type": "code",
   "execution_count": 3,
   "id": "a6ef1da6",
   "metadata": {},
   "outputs": [],
   "source": [
    "# Create dataset with all information on street level\n",
    "streetnames_geom = pd.merge(streets_geom, streetnames, on=['STR_ESID','STR_ESID'])"
   ]
  },
  {
   "cell_type": "code",
   "execution_count": 4,
   "id": "7a4f2f32",
   "metadata": {},
   "outputs": [],
   "source": [
    "# Create dataset with all information on commune level\n",
    "communes = pd.merge(com_geom, com, on=['GMDNR','GMDNR'])"
   ]
  },
  {
   "cell_type": "code",
   "execution_count": 5,
   "id": "d1de116a",
   "metadata": {},
   "outputs": [],
   "source": [
    "# Create dataset with all information on canton level\n",
    "cantons = communes.dissolve('KTNR_x')"
   ]
  },
  {
   "cell_type": "code",
   "execution_count": 6,
   "id": "784d829f",
   "metadata": {},
   "outputs": [
    {
     "data": {
      "text/html": [
       "<div>\n",
       "<style scoped>\n",
       "    .dataframe tbody tr th:only-of-type {\n",
       "        vertical-align: middle;\n",
       "    }\n",
       "\n",
       "    .dataframe tbody tr th {\n",
       "        vertical-align: top;\n",
       "    }\n",
       "\n",
       "    .dataframe thead th {\n",
       "        text-align: right;\n",
       "    }\n",
       "</style>\n",
       "<table border=\"1\" class=\"dataframe\">\n",
       "  <thead>\n",
       "    <tr style=\"text-align: right;\">\n",
       "      <th></th>\n",
       "      <th>Cantons</th>\n",
       "      <th>Cases</th>\n",
       "    </tr>\n",
       "  </thead>\n",
       "  <tbody>\n",
       "    <tr>\n",
       "      <th>0</th>\n",
       "      <td>ZH</td>\n",
       "      <td>26586</td>\n",
       "    </tr>\n",
       "    <tr>\n",
       "      <th>1</th>\n",
       "      <td>SG</td>\n",
       "      <td>19430</td>\n",
       "    </tr>\n",
       "    <tr>\n",
       "      <th>2</th>\n",
       "      <td>BE</td>\n",
       "      <td>16850</td>\n",
       "    </tr>\n",
       "    <tr>\n",
       "      <th>3</th>\n",
       "      <td>AG</td>\n",
       "      <td>14727</td>\n",
       "    </tr>\n",
       "    <tr>\n",
       "      <th>4</th>\n",
       "      <td>VD</td>\n",
       "      <td>13203</td>\n",
       "    </tr>\n",
       "  </tbody>\n",
       "</table>\n",
       "</div>"
      ],
      "text/plain": [
       "  Cantons  Cases\n",
       "0      ZH  26586\n",
       "1      SG  19430\n",
       "2      BE  16850\n",
       "3      AG  14727\n",
       "4      VD  13203"
      ]
     },
     "execution_count": 6,
     "metadata": {},
     "output_type": "execute_result"
    }
   ],
   "source": [
    "dfCantons = streetnames_geom.COM_CANTON.unique()\n",
    "dfCantons = streetnames_geom['COM_CANTON'].value_counts().reset_index()\n",
    "dfCantons.columns  = ['Cantons','Cases']\n",
    "dfCantons.head()"
   ]
  },
  {
   "cell_type": "code",
   "execution_count": 12,
   "id": "401e5a78",
   "metadata": {},
   "outputs": [],
   "source": [
    "streetnames_length_comm = streetnames_geom.dissolve(by='COM_FOSNR', aggfunc={\n",
    "         \"LENGTH\": \"sum\",\n",
    "         \"COM_NAME\": \"first\",\n",
    "         \"COM_FOSNR\": \"first\"\n",
    "    \n",
    "     })\n",
    "\n"
   ]
  },
  {
   "cell_type": "code",
   "execution_count": 13,
   "id": "57de1c5a",
   "metadata": {},
   "outputs": [
    {
     "data": {
      "text/html": [
       "<div>\n",
       "<style scoped>\n",
       "    .dataframe tbody tr th:only-of-type {\n",
       "        vertical-align: middle;\n",
       "    }\n",
       "\n",
       "    .dataframe tbody tr th {\n",
       "        vertical-align: top;\n",
       "    }\n",
       "\n",
       "    .dataframe thead th {\n",
       "        text-align: right;\n",
       "    }\n",
       "</style>\n",
       "<table border=\"1\" class=\"dataframe\">\n",
       "  <thead>\n",
       "    <tr style=\"text-align: right;\">\n",
       "      <th></th>\n",
       "      <th>geometry</th>\n",
       "      <th>LENGTH</th>\n",
       "      <th>COM_NAME</th>\n",
       "      <th>COM_FOSNR</th>\n",
       "    </tr>\n",
       "    <tr>\n",
       "      <th>COM_FOSNR</th>\n",
       "      <th></th>\n",
       "      <th></th>\n",
       "      <th></th>\n",
       "      <th></th>\n",
       "    </tr>\n",
       "  </thead>\n",
       "  <tbody>\n",
       "    <tr>\n",
       "      <th>1</th>\n",
       "      <td>MULTILINESTRING ((2680357.086 1237084.851, 268...</td>\n",
       "      <td>41197.425968</td>\n",
       "      <td>Aeugst am Albis</td>\n",
       "      <td>1</td>\n",
       "    </tr>\n",
       "    <tr>\n",
       "      <th>2</th>\n",
       "      <td>MULTILINESTRING ((2676410.046 1236813.362, 267...</td>\n",
       "      <td>92218.102581</td>\n",
       "      <td>Affoltern am Albis</td>\n",
       "      <td>2</td>\n",
       "    </tr>\n",
       "    <tr>\n",
       "      <th>3</th>\n",
       "      <td>MULTILINESTRING ((2678211.219 1242045.308, 267...</td>\n",
       "      <td>73017.833761</td>\n",
       "      <td>Bonstetten</td>\n",
       "      <td>3</td>\n",
       "    </tr>\n",
       "    <tr>\n",
       "      <th>4</th>\n",
       "      <td>MULTILINESTRING ((2683959.863 1230977.862, 268...</td>\n",
       "      <td>101348.126124</td>\n",
       "      <td>Hausen am Albis</td>\n",
       "      <td>4</td>\n",
       "    </tr>\n",
       "    <tr>\n",
       "      <th>5</th>\n",
       "      <td>MULTILINESTRING ((2676575.716 1238629.919, 267...</td>\n",
       "      <td>75264.963122</td>\n",
       "      <td>Hedingen</td>\n",
       "      <td>5</td>\n",
       "    </tr>\n",
       "    <tr>\n",
       "      <th>...</th>\n",
       "      <td>...</td>\n",
       "      <td>...</td>\n",
       "      <td>...</td>\n",
       "      <td>...</td>\n",
       "    </tr>\n",
       "    <tr>\n",
       "      <th>6806</th>\n",
       "      <td>MULTILINESTRING ((2578579.303 1255648.219, 257...</td>\n",
       "      <td>10438.905705</td>\n",
       "      <td>Vendlincourt</td>\n",
       "      <td>6806</td>\n",
       "    </tr>\n",
       "    <tr>\n",
       "      <th>6807</th>\n",
       "      <td>MULTILINESTRING ((2570462.263 1257368.868, 257...</td>\n",
       "      <td>27014.539854</td>\n",
       "      <td>Basse-Allaine</td>\n",
       "      <td>6807</td>\n",
       "    </tr>\n",
       "    <tr>\n",
       "      <th>6808</th>\n",
       "      <td>MULTILINESTRING ((2578375.101 1244745.943, 257...</td>\n",
       "      <td>44248.609678</td>\n",
       "      <td>Clos du Doubs</td>\n",
       "      <td>6808</td>\n",
       "    </tr>\n",
       "    <tr>\n",
       "      <th>6809</th>\n",
       "      <td>MULTILINESTRING ((2566789.052 1249068.517, 256...</td>\n",
       "      <td>37334.365775</td>\n",
       "      <td>Haute-Ajoie</td>\n",
       "      <td>6809</td>\n",
       "    </tr>\n",
       "    <tr>\n",
       "      <th>6810</th>\n",
       "      <td>MULTILINESTRING ((2579915.857 1252660.802, 257...</td>\n",
       "      <td>39378.460616</td>\n",
       "      <td>La Baroche</td>\n",
       "      <td>6810</td>\n",
       "    </tr>\n",
       "  </tbody>\n",
       "</table>\n",
       "<p>2081 rows × 4 columns</p>\n",
       "</div>"
      ],
      "text/plain": [
       "                                                    geometry         LENGTH  \\\n",
       "COM_FOSNR                                                                     \n",
       "1          MULTILINESTRING ((2680357.086 1237084.851, 268...   41197.425968   \n",
       "2          MULTILINESTRING ((2676410.046 1236813.362, 267...   92218.102581   \n",
       "3          MULTILINESTRING ((2678211.219 1242045.308, 267...   73017.833761   \n",
       "4          MULTILINESTRING ((2683959.863 1230977.862, 268...  101348.126124   \n",
       "5          MULTILINESTRING ((2676575.716 1238629.919, 267...   75264.963122   \n",
       "...                                                      ...            ...   \n",
       "6806       MULTILINESTRING ((2578579.303 1255648.219, 257...   10438.905705   \n",
       "6807       MULTILINESTRING ((2570462.263 1257368.868, 257...   27014.539854   \n",
       "6808       MULTILINESTRING ((2578375.101 1244745.943, 257...   44248.609678   \n",
       "6809       MULTILINESTRING ((2566789.052 1249068.517, 256...   37334.365775   \n",
       "6810       MULTILINESTRING ((2579915.857 1252660.802, 257...   39378.460616   \n",
       "\n",
       "                     COM_NAME  COM_FOSNR  \n",
       "COM_FOSNR                                 \n",
       "1             Aeugst am Albis          1  \n",
       "2          Affoltern am Albis          2  \n",
       "3                  Bonstetten          3  \n",
       "4             Hausen am Albis          4  \n",
       "5                    Hedingen          5  \n",
       "...                       ...        ...  \n",
       "6806             Vendlincourt       6806  \n",
       "6807            Basse-Allaine       6807  \n",
       "6808            Clos du Doubs       6808  \n",
       "6809              Haute-Ajoie       6809  \n",
       "6810               La Baroche       6810  \n",
       "\n",
       "[2081 rows x 4 columns]"
      ]
     },
     "execution_count": 13,
     "metadata": {},
     "output_type": "execute_result"
    }
   ],
   "source": [
    "streetnames_length_comm"
   ]
  },
  {
   "cell_type": "code",
   "execution_count": null,
   "id": "ca61861b",
   "metadata": {},
   "outputs": [],
   "source": []
  },
  {
   "cell_type": "code",
   "execution_count": null,
   "id": "4630b7e0",
   "metadata": {},
   "outputs": [],
   "source": []
  }
 ],
 "metadata": {
  "kernelspec": {
   "display_name": "Python 3 (ipykernel)",
   "language": "python",
   "name": "python3"
  },
  "language_info": {
   "codemirror_mode": {
    "name": "ipython",
    "version": 3
   },
   "file_extension": ".py",
   "mimetype": "text/x-python",
   "name": "python",
   "nbconvert_exporter": "python",
   "pygments_lexer": "ipython3",
   "version": "3.10.7"
  }
 },
 "nbformat": 4,
 "nbformat_minor": 5
}
