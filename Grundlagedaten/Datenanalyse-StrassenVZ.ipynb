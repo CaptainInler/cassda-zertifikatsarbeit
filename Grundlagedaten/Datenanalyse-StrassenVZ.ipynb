{
 "cells": [
  {
   "cell_type": "markdown",
   "id": "6255c4e7-1d91-41af-961a-46e1da83a7d3",
   "metadata": {},
   "source": [
    "# Data understanding\n",
    "In diesem Notebook werden die Daten des [Amtliches Verzeichnis der Strassen](https://www.cadastre.ch/de/services/service/registry/street.html) der swisstopo explorativ begutachtet."
   ]
  },
  {
   "cell_type": "markdown",
   "id": "a08bf1c1-0dcd-493b-b154-478c589b90e5",
   "metadata": {
    "tags": []
   },
   "source": [
    "---\n",
    "## Laden der Daten"
   ]
  },
  {
   "cell_type": "code",
   "execution_count": 1,
   "id": "e38592bf-3c25-4a83-a8c0-9a1343e30fae",
   "metadata": {},
   "outputs": [],
   "source": [
    "import urllib.request\n",
    "    \n",
    "url = 'https://data.geo.admin.ch/ch.swisstopo.amtliches-strassenverzeichnis/csv/2056/ch.swisstopo.amtliches-strassenverzeichnis.zip'\n",
    "filehandle, _ = urllib.request.urlretrieve(url)"
   ]
  },
  {
   "cell_type": "markdown",
   "id": "67dc4859-e48b-4f39-80d2-f6ac8a5e0af8",
   "metadata": {},
   "source": [
    "Lesen der zipdatei. Die Daten sollten in der Datei pure_str.csv abgelegt sein."
   ]
  },
  {
   "cell_type": "code",
   "execution_count": 2,
   "id": "319ad434-87f8-45ff-9464-2fb7ba65b5fa",
   "metadata": {},
   "outputs": [
    {
     "name": "stdout",
     "output_type": "stream",
     "text": [
      "File Name                                             Modified             Size\n",
      "pure_str.csv                                   2022-09-28 02:50:40     23542065\n",
      "timestamp.txt                                  2022-09-28 03:12:32           10\n"
     ]
    }
   ],
   "source": [
    "from zipfile import ZipFile\n",
    "\n",
    "with ZipFile(filehandle, 'r') as zip:\n",
    "    zip.printdir()\n",
    "    data = zip.read(\"pure_str.csv\")"
   ]
  },
  {
   "cell_type": "markdown",
   "id": "c3d38b42-fb8d-41f2-8142-c27a69ccacb1",
   "metadata": {},
   "source": [
    "Mit `chardet` das encoding der Daten herausfinden. Gegebenenfalls installieren `pip install chardet`"
   ]
  },
  {
   "cell_type": "code",
   "execution_count": 3,
   "id": "941eb7c0-e007-46cc-adc4-76c0e18b62a4",
   "metadata": {},
   "outputs": [
    {
     "name": "stdout",
     "output_type": "stream",
     "text": [
      "{'encoding': 'UTF-8-SIG', 'confidence': 1.0, 'language': ''}\n",
      "<class 'bytes'>\n"
     ]
    }
   ],
   "source": [
    "import chardet\n",
    "\n",
    "result = chardet.detect(data)\n",
    "print(result)\n",
    "print(type(data))"
   ]
  },
  {
   "cell_type": "markdown",
   "id": "e5d9d571-9dec-4d18-8384-8af468d160de",
   "metadata": {},
   "source": [
    "Daten in ein pandas-Dataframe abfüllen um eine tabelarische Übersicht über die Daten zu erhalten.\n",
    "Sollte pandas nicht installiert sein `pip install pandas`"
   ]
  },
  {
   "cell_type": "code",
   "execution_count": 5,
   "id": "1fc9f5b8-a391-4ae0-9219-73955a8e11a8",
   "metadata": {},
   "outputs": [
    {
     "data": {
      "text/html": [
       "<div>\n",
       "<style scoped>\n",
       "    .dataframe tbody tr th:only-of-type {\n",
       "        vertical-align: middle;\n",
       "    }\n",
       "\n",
       "    .dataframe tbody tr th {\n",
       "        vertical-align: top;\n",
       "    }\n",
       "\n",
       "    .dataframe thead th {\n",
       "        text-align: right;\n",
       "    }\n",
       "</style>\n",
       "<table border=\"1\" class=\"dataframe\">\n",
       "  <thead>\n",
       "    <tr style=\"text-align: right;\">\n",
       "      <th></th>\n",
       "      <th>STR_ESID</th>\n",
       "      <th>STN_LABEL</th>\n",
       "      <th>ZIP_LABEL</th>\n",
       "      <th>COM_FOSNR</th>\n",
       "      <th>COM_NAME</th>\n",
       "      <th>COM_CANTON</th>\n",
       "      <th>STR_TYPE</th>\n",
       "      <th>STR_STATUS</th>\n",
       "      <th>STR_OFFICIAL</th>\n",
       "      <th>STR_VALID</th>\n",
       "      <th>STR_MODIFIED</th>\n",
       "      <th>STR_EASTING</th>\n",
       "      <th>STR_NORTHING</th>\n",
       "    </tr>\n",
       "  </thead>\n",
       "  <tbody>\n",
       "    <tr>\n",
       "      <th>0</th>\n",
       "      <td>10258316</td>\n",
       "      <td>Eggwald</td>\n",
       "      <td>6484 Wassen UR</td>\n",
       "      <td>1220</td>\n",
       "      <td>Wassen</td>\n",
       "      <td>UR</td>\n",
       "      <td>Place</td>\n",
       "      <td>real</td>\n",
       "      <td>True</td>\n",
       "      <td>False</td>\n",
       "      <td>10.09.2022</td>\n",
       "      <td>NaN</td>\n",
       "      <td>NaN</td>\n",
       "    </tr>\n",
       "    <tr>\n",
       "      <th>1</th>\n",
       "      <td>10023770</td>\n",
       "      <td>Wiedenweg</td>\n",
       "      <td>4203 Grellingen</td>\n",
       "      <td>2786</td>\n",
       "      <td>Grellingen</td>\n",
       "      <td>BL</td>\n",
       "      <td>Street</td>\n",
       "      <td>real</td>\n",
       "      <td>True</td>\n",
       "      <td>True</td>\n",
       "      <td>09.09.2022</td>\n",
       "      <td>2610733.0</td>\n",
       "      <td>1254311.0</td>\n",
       "    </tr>\n",
       "    <tr>\n",
       "      <th>2</th>\n",
       "      <td>10179192</td>\n",
       "      <td>Wuhrbärgli</td>\n",
       "      <td>4253 Liesberg</td>\n",
       "      <td>2788</td>\n",
       "      <td>Liesberg</td>\n",
       "      <td>BL</td>\n",
       "      <td>Street</td>\n",
       "      <td>real</td>\n",
       "      <td>True</td>\n",
       "      <td>True</td>\n",
       "      <td>26.08.2022</td>\n",
       "      <td>2598709.0</td>\n",
       "      <td>1249640.0</td>\n",
       "    </tr>\n",
       "    <tr>\n",
       "      <th>3</th>\n",
       "      <td>10250501</td>\n",
       "      <td>Hüethütte Unter Trübsee</td>\n",
       "      <td>6390 Engelberg</td>\n",
       "      <td>1511</td>\n",
       "      <td>Wolfenschiessen</td>\n",
       "      <td>NW</td>\n",
       "      <td>Area</td>\n",
       "      <td>real</td>\n",
       "      <td>True</td>\n",
       "      <td>True</td>\n",
       "      <td>07.08.2021</td>\n",
       "      <td>2671798.0</td>\n",
       "      <td>1184817.0</td>\n",
       "    </tr>\n",
       "    <tr>\n",
       "      <th>4</th>\n",
       "      <td>10163108</td>\n",
       "      <td>Heimstenstich</td>\n",
       "      <td>4436 Liedertswil</td>\n",
       "      <td>2890</td>\n",
       "      <td>Liedertswil</td>\n",
       "      <td>BL</td>\n",
       "      <td>Area</td>\n",
       "      <td>real</td>\n",
       "      <td>True</td>\n",
       "      <td>True</td>\n",
       "      <td>03.03.2022</td>\n",
       "      <td>2621856.0</td>\n",
       "      <td>1248672.0</td>\n",
       "    </tr>\n",
       "  </tbody>\n",
       "</table>\n",
       "</div>"
      ],
      "text/plain": [
       "   STR_ESID                STN_LABEL         ZIP_LABEL  COM_FOSNR  \\\n",
       "0  10258316                  Eggwald    6484 Wassen UR       1220   \n",
       "1  10023770                Wiedenweg   4203 Grellingen       2786   \n",
       "2  10179192               Wuhrbärgli     4253 Liesberg       2788   \n",
       "3  10250501  Hüethütte Unter Trübsee    6390 Engelberg       1511   \n",
       "4  10163108            Heimstenstich  4436 Liedertswil       2890   \n",
       "\n",
       "          COM_NAME COM_CANTON STR_TYPE STR_STATUS  STR_OFFICIAL  STR_VALID  \\\n",
       "0           Wassen         UR    Place       real          True      False   \n",
       "1       Grellingen         BL   Street       real          True       True   \n",
       "2         Liesberg         BL   Street       real          True       True   \n",
       "3  Wolfenschiessen         NW     Area       real          True       True   \n",
       "4      Liedertswil         BL     Area       real          True       True   \n",
       "\n",
       "  STR_MODIFIED  STR_EASTING  STR_NORTHING  \n",
       "0   10.09.2022          NaN           NaN  \n",
       "1   09.09.2022    2610733.0     1254311.0  \n",
       "2   26.08.2022    2598709.0     1249640.0  \n",
       "3   07.08.2021    2671798.0     1184817.0  \n",
       "4   03.03.2022    2621856.0     1248672.0  "
      ]
     },
     "execution_count": 5,
     "metadata": {},
     "output_type": "execute_result"
    }
   ],
   "source": [
    "from io import StringIO\n",
    "import pandas as pd\n",
    "\n",
    "daten = StringIO(str(data,'UTF-8-SIG'))\n",
    "\n",
    "df = pd.read_csv(daten, encoding='UTF-8-SIG', sep=';')\n",
    "df.head()"
   ]
  },
  {
   "cell_type": "markdown",
   "id": "b903b72b-c579-4e22-ab4a-472487b48dfa",
   "metadata": {},
   "source": [
    "---\n",
    "## Daten begutachten"
   ]
  },
  {
   "cell_type": "markdown",
   "id": "6f6cc57b-4de5-45b9-ada9-cc9c4bae1370",
   "metadata": {},
   "source": [
    "Prüfen auf Null-Values. Vor allem in den Spalten `STR_ESID`, `STN_LABEL` und `STR_EASTING`/`STR_NORTHING` interessant. Diese enthalten die Daten mit welchen später gearbeitet wird."
   ]
  },
  {
   "cell_type": "code",
   "execution_count": 6,
   "id": "d3b85ed2-4c6b-4e72-bfda-a3e953cb084a",
   "metadata": {},
   "outputs": [
    {
     "name": "stdout",
     "output_type": "stream",
     "text": [
      "<class 'pandas.core.frame.DataFrame'>\n",
      "RangeIndex: 221260 entries, 0 to 221259\n",
      "Data columns (total 13 columns):\n",
      " #   Column        Non-Null Count   Dtype  \n",
      "---  ------        --------------   -----  \n",
      " 0   STR_ESID      221260 non-null  int64  \n",
      " 1   STN_LABEL     221260 non-null  object \n",
      " 2   ZIP_LABEL     221260 non-null  object \n",
      " 3   COM_FOSNR     221260 non-null  int64  \n",
      " 4   COM_NAME      221260 non-null  object \n",
      " 5   COM_CANTON    221260 non-null  object \n",
      " 6   STR_TYPE      220835 non-null  object \n",
      " 7   STR_STATUS    221260 non-null  object \n",
      " 8   STR_OFFICIAL  221260 non-null  bool   \n",
      " 9   STR_VALID     221260 non-null  bool   \n",
      " 10  STR_MODIFIED  221260 non-null  object \n",
      " 11  STR_EASTING   220180 non-null  float64\n",
      " 12  STR_NORTHING  220180 non-null  float64\n",
      "dtypes: bool(2), float64(2), int64(2), object(7)\n",
      "memory usage: 19.0+ MB\n"
     ]
    }
   ],
   "source": [
    "df.info()"
   ]
  },
  {
   "cell_type": "markdown",
   "id": "dded6c02-7348-4d87-af1e-80fa9f39b4ce",
   "metadata": {},
   "source": [
    "### Anzahl Strassen pro Kanton"
   ]
  },
  {
   "cell_type": "code",
   "execution_count": 7,
   "id": "f249f012-b13a-427f-882a-a0b009a811c9",
   "metadata": {},
   "outputs": [
    {
     "data": {
      "text/html": [
       "<div>\n",
       "<style scoped>\n",
       "    .dataframe tbody tr th:only-of-type {\n",
       "        vertical-align: middle;\n",
       "    }\n",
       "\n",
       "    .dataframe tbody tr th {\n",
       "        vertical-align: top;\n",
       "    }\n",
       "\n",
       "    .dataframe thead th {\n",
       "        text-align: right;\n",
       "    }\n",
       "</style>\n",
       "<table border=\"1\" class=\"dataframe\">\n",
       "  <thead>\n",
       "    <tr style=\"text-align: right;\">\n",
       "      <th></th>\n",
       "      <th>CANTON</th>\n",
       "      <th>STR_Count</th>\n",
       "    </tr>\n",
       "  </thead>\n",
       "  <tbody>\n",
       "    <tr>\n",
       "      <th>0</th>\n",
       "      <td>BE</td>\n",
       "      <td>30642</td>\n",
       "    </tr>\n",
       "    <tr>\n",
       "      <th>1</th>\n",
       "      <td>ZH</td>\n",
       "      <td>28662</td>\n",
       "    </tr>\n",
       "    <tr>\n",
       "      <th>2</th>\n",
       "      <td>SG</td>\n",
       "      <td>24373</td>\n",
       "    </tr>\n",
       "    <tr>\n",
       "      <th>3</th>\n",
       "      <td>AG</td>\n",
       "      <td>16209</td>\n",
       "    </tr>\n",
       "    <tr>\n",
       "      <th>4</th>\n",
       "      <td>VD</td>\n",
       "      <td>15139</td>\n",
       "    </tr>\n",
       "  </tbody>\n",
       "</table>\n",
       "</div>"
      ],
      "text/plain": [
       "  CANTON  STR_Count\n",
       "0     BE      30642\n",
       "1     ZH      28662\n",
       "2     SG      24373\n",
       "3     AG      16209\n",
       "4     VD      15139"
      ]
     },
     "execution_count": 7,
     "metadata": {},
     "output_type": "execute_result"
    }
   ],
   "source": [
    "dfCANTON_STR = df.COM_CANTON.value_counts().reset_index()\n",
    "dfCANTON_STR.columns = ['CANTON','STR_Count']\n",
    "\n",
    "dfCANTON_STR.head()"
   ]
  },
  {
   "cell_type": "code",
   "execution_count": 8,
   "id": "5644a362-ec86-442a-ae9a-f0b3ca5a4fe6",
   "metadata": {},
   "outputs": [
    {
     "ename": "ModuleNotFoundError",
     "evalue": "No module named 'matplotlib'",
     "output_type": "error",
     "traceback": [
      "\u001b[0;31m---------------------------------------------------------------------------\u001b[0m",
      "\u001b[0;31mModuleNotFoundError\u001b[0m                       Traceback (most recent call last)",
      "Cell \u001b[0;32mIn [8], line 1\u001b[0m\n\u001b[0;32m----> 1\u001b[0m \u001b[38;5;28;01mimport\u001b[39;00m \u001b[38;5;21;01mmatplotlib\u001b[39;00m\u001b[38;5;21;01m.\u001b[39;00m\u001b[38;5;21;01mpyplot\u001b[39;00m \u001b[38;5;28;01mas\u001b[39;00m \u001b[38;5;21;01mplt\u001b[39;00m\n\u001b[1;32m      2\u001b[0m fig \u001b[38;5;241m=\u001b[39m plt\u001b[38;5;241m.\u001b[39mfigure()\n\u001b[1;32m      4\u001b[0m fig, ax \u001b[38;5;241m=\u001b[39m plt\u001b[38;5;241m.\u001b[39msubplots(figsize\u001b[38;5;241m=\u001b[39m(\u001b[38;5;241m10\u001b[39m,\u001b[38;5;241m5\u001b[39m), dpi\u001b[38;5;241m=\u001b[39m\u001b[38;5;241m70\u001b[39m)\n",
      "\u001b[0;31mModuleNotFoundError\u001b[0m: No module named 'matplotlib'"
     ]
    }
   ],
   "source": [
    "import matplotlib.pyplot as plt\n",
    "fig = plt.figure()\n",
    "\n",
    "fig, ax = plt.subplots(figsize=(10,5), dpi=70)\n",
    "cantons = dfCANTON_STR.CANTON\n",
    "cases = dfCANTON_STR.STR_Count\n",
    "ax.bar(cantons,cases)\n",
    "plt.show()"
   ]
  },
  {
   "cell_type": "markdown",
   "id": "c202d85c-c9f0-49a6-806f-c7db20ace84b",
   "metadata": {},
   "source": [
    "### Statistik"
   ]
  },
  {
   "cell_type": "code",
   "execution_count": 14,
   "id": "64080f61",
   "metadata": {},
   "outputs": [
    {
     "data": {
      "text/html": [
       "<div>\n",
       "<style scoped>\n",
       "    .dataframe tbody tr th:only-of-type {\n",
       "        vertical-align: middle;\n",
       "    }\n",
       "\n",
       "    .dataframe tbody tr th {\n",
       "        vertical-align: top;\n",
       "    }\n",
       "\n",
       "    .dataframe thead th {\n",
       "        text-align: right;\n",
       "    }\n",
       "</style>\n",
       "<table border=\"1\" class=\"dataframe\">\n",
       "  <thead>\n",
       "    <tr style=\"text-align: right;\">\n",
       "      <th></th>\n",
       "      <th>STN_LABEL</th>\n",
       "      <th>ZIP_LABEL</th>\n",
       "      <th>COM_NAME</th>\n",
       "      <th>COM_CANTON</th>\n",
       "      <th>STR_TYPE</th>\n",
       "      <th>STR_STATUS</th>\n",
       "      <th>STR_MODIFIED</th>\n",
       "    </tr>\n",
       "  </thead>\n",
       "  <tbody>\n",
       "    <tr>\n",
       "      <th>count</th>\n",
       "      <td>221256</td>\n",
       "      <td>221256</td>\n",
       "      <td>221256</td>\n",
       "      <td>221256</td>\n",
       "      <td>220831</td>\n",
       "      <td>221256</td>\n",
       "      <td>221256</td>\n",
       "    </tr>\n",
       "    <tr>\n",
       "      <th>unique</th>\n",
       "      <td>128524</td>\n",
       "      <td>6881</td>\n",
       "      <td>2135</td>\n",
       "      <td>26</td>\n",
       "      <td>3</td>\n",
       "      <td>2</td>\n",
       "      <td>232</td>\n",
       "    </tr>\n",
       "    <tr>\n",
       "      <th>top</th>\n",
       "      <td>Dorfstrasse</td>\n",
       "      <td>9642 Ebnat-Kappel</td>\n",
       "      <td>Zürich</td>\n",
       "      <td>BE</td>\n",
       "      <td>Street</td>\n",
       "      <td>real</td>\n",
       "      <td>27.08.2022</td>\n",
       "    </tr>\n",
       "    <tr>\n",
       "      <th>freq</th>\n",
       "      <td>643</td>\n",
       "      <td>502</td>\n",
       "      <td>2515</td>\n",
       "      <td>30642</td>\n",
       "      <td>171983</td>\n",
       "      <td>221048</td>\n",
       "      <td>23544</td>\n",
       "    </tr>\n",
       "  </tbody>\n",
       "</table>\n",
       "</div>"
      ],
      "text/plain": [
       "          STN_LABEL          ZIP_LABEL COM_NAME COM_CANTON STR_TYPE  \\\n",
       "count        221256             221256   221256     221256   220831   \n",
       "unique       128524               6881     2135         26        3   \n",
       "top     Dorfstrasse  9642 Ebnat-Kappel   Zürich         BE   Street   \n",
       "freq            643                502     2515      30642   171983   \n",
       "\n",
       "       STR_STATUS STR_MODIFIED  \n",
       "count      221256       221256  \n",
       "unique          2          232  \n",
       "top          real   27.08.2022  \n",
       "freq       221048        23544  "
      ]
     },
     "execution_count": 14,
     "metadata": {},
     "output_type": "execute_result"
    }
   ],
   "source": [
    "import numpy as np\n",
    "df.describe(include=object)"
   ]
  },
  {
   "cell_type": "code",
   "execution_count": null,
   "id": "6be9a9cb-0624-4aae-ba71-25f2ad115bb3",
   "metadata": {},
   "outputs": [],
   "source": []
  }
 ],
 "metadata": {
  "kernelspec": {
   "display_name": "Python 3 (ipykernel)",
   "language": "python",
   "name": "python3"
  },
  "language_info": {
   "codemirror_mode": {
    "name": "ipython",
    "version": 3
   },
   "file_extension": ".py",
   "mimetype": "text/x-python",
   "name": "python",
   "nbconvert_exporter": "python",
   "pygments_lexer": "ipython3",
   "version": "3.10.6"
  }
 },
 "nbformat": 4,
 "nbformat_minor": 5
}
