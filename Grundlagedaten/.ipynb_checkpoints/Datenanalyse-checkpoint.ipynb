{
 "cells": [
  {
   "cell_type": "code",
   "execution_count": 1,
   "id": "e38592bf-3c25-4a83-a8c0-9a1343e30fae",
   "metadata": {},
   "outputs": [],
   "source": [
    "import urllib.request\n",
    "    \n",
    "url = 'https://data.geo.admin.ch/ch.swisstopo.amtliches-strassenverzeichnis/csv/2056/ch.swisstopo.amtliches-strassenverzeichnis.zip'\n",
    "filehandle, _ = urllib.request.urlretrieve(url)"
   ]
  },
  {
   "cell_type": "code",
   "execution_count": 2,
   "id": "319ad434-87f8-45ff-9464-2fb7ba65b5fa",
   "metadata": {},
   "outputs": [
    {
     "name": "stdout",
     "output_type": "stream",
     "text": [
      "File Name                                             Modified             Size\n",
      "pure_str.csv                                   2022-09-24 03:25:54     23540984\n",
      "timestamp.txt                                  2022-09-24 03:48:18           10\n"
     ]
    }
   ],
   "source": [
    "from zipfile import ZipFile\n",
    "\n",
    "with ZipFile(filehandle, 'r') as zip:\n",
    "    # printing all the contents of the zip file\n",
    "    zip.printdir()\n",
    "\n",
    "    data = zip.read(\"pure_str.csv\")"
   ]
  },
  {
   "cell_type": "code",
   "execution_count": 4,
   "id": "941eb7c0-e007-46cc-adc4-76c0e18b62a4",
   "metadata": {},
   "outputs": [
    {
     "name": "stdout",
     "output_type": "stream",
     "text": [
      "{'encoding': 'UTF-8-SIG', 'confidence': 1.0, 'language': ''}\n",
      "<class 'bytes'>\n"
     ]
    }
   ],
   "source": [
    "import chardet\n",
    "\n",
    "result = chardet.detect(data)\n",
    "print(result)\n",
    "print(type(data))"
   ]
  },
  {
   "cell_type": "code",
   "execution_count": 6,
   "id": "1fc9f5b8-a391-4ae0-9219-73955a8e11a8",
   "metadata": {},
   "outputs": [
    {
     "data": {
      "text/html": [
       "<div>\n",
       "<style scoped>\n",
       "    .dataframe tbody tr th:only-of-type {\n",
       "        vertical-align: middle;\n",
       "    }\n",
       "\n",
       "    .dataframe tbody tr th {\n",
       "        vertical-align: top;\n",
       "    }\n",
       "\n",
       "    .dataframe thead th {\n",
       "        text-align: right;\n",
       "    }\n",
       "</style>\n",
       "<table border=\"1\" class=\"dataframe\">\n",
       "  <thead>\n",
       "    <tr style=\"text-align: right;\">\n",
       "      <th></th>\n",
       "      <th>STR_ESID</th>\n",
       "      <th>STN_LABEL</th>\n",
       "      <th>ZIP_LABEL</th>\n",
       "      <th>COM_FOSNR</th>\n",
       "      <th>COM_NAME</th>\n",
       "      <th>COM_CANTON</th>\n",
       "      <th>STR_TYPE</th>\n",
       "      <th>STR_STATUS</th>\n",
       "      <th>STR_OFFICIAL</th>\n",
       "      <th>STR_VALID</th>\n",
       "      <th>STR_MODIFIED</th>\n",
       "      <th>STR_EASTING</th>\n",
       "      <th>STR_NORTHING</th>\n",
       "    </tr>\n",
       "  </thead>\n",
       "  <tbody>\n",
       "    <tr>\n",
       "      <th>0</th>\n",
       "      <td>10258316</td>\n",
       "      <td>Eggwald</td>\n",
       "      <td>6484 Wassen UR</td>\n",
       "      <td>1220</td>\n",
       "      <td>Wassen</td>\n",
       "      <td>UR</td>\n",
       "      <td>Place</td>\n",
       "      <td>real</td>\n",
       "      <td>True</td>\n",
       "      <td>False</td>\n",
       "      <td>10.09.2022</td>\n",
       "      <td>NaN</td>\n",
       "      <td>NaN</td>\n",
       "    </tr>\n",
       "    <tr>\n",
       "      <th>1</th>\n",
       "      <td>10023770</td>\n",
       "      <td>Wiedenweg</td>\n",
       "      <td>4203 Grellingen</td>\n",
       "      <td>2786</td>\n",
       "      <td>Grellingen</td>\n",
       "      <td>BL</td>\n",
       "      <td>Street</td>\n",
       "      <td>real</td>\n",
       "      <td>True</td>\n",
       "      <td>True</td>\n",
       "      <td>09.09.2022</td>\n",
       "      <td>2610733.0</td>\n",
       "      <td>1254311.0</td>\n",
       "    </tr>\n",
       "    <tr>\n",
       "      <th>2</th>\n",
       "      <td>10179192</td>\n",
       "      <td>Wuhrbärgli</td>\n",
       "      <td>4253 Liesberg</td>\n",
       "      <td>2788</td>\n",
       "      <td>Liesberg</td>\n",
       "      <td>BL</td>\n",
       "      <td>Street</td>\n",
       "      <td>real</td>\n",
       "      <td>True</td>\n",
       "      <td>True</td>\n",
       "      <td>26.08.2022</td>\n",
       "      <td>2598709.0</td>\n",
       "      <td>1249640.0</td>\n",
       "    </tr>\n",
       "    <tr>\n",
       "      <th>3</th>\n",
       "      <td>10250501</td>\n",
       "      <td>Hüethütte Unter Trübsee</td>\n",
       "      <td>6390 Engelberg</td>\n",
       "      <td>1511</td>\n",
       "      <td>Wolfenschiessen</td>\n",
       "      <td>NW</td>\n",
       "      <td>Area</td>\n",
       "      <td>real</td>\n",
       "      <td>True</td>\n",
       "      <td>True</td>\n",
       "      <td>07.08.2021</td>\n",
       "      <td>2671798.0</td>\n",
       "      <td>1184817.0</td>\n",
       "    </tr>\n",
       "    <tr>\n",
       "      <th>4</th>\n",
       "      <td>10163108</td>\n",
       "      <td>Heimstenstich</td>\n",
       "      <td>4436 Liedertswil</td>\n",
       "      <td>2890</td>\n",
       "      <td>Liedertswil</td>\n",
       "      <td>BL</td>\n",
       "      <td>Area</td>\n",
       "      <td>real</td>\n",
       "      <td>True</td>\n",
       "      <td>True</td>\n",
       "      <td>03.03.2022</td>\n",
       "      <td>2621856.0</td>\n",
       "      <td>1248672.0</td>\n",
       "    </tr>\n",
       "  </tbody>\n",
       "</table>\n",
       "</div>"
      ],
      "text/plain": [
       "   STR_ESID                STN_LABEL         ZIP_LABEL  COM_FOSNR  \\\n",
       "0  10258316                  Eggwald    6484 Wassen UR       1220   \n",
       "1  10023770                Wiedenweg   4203 Grellingen       2786   \n",
       "2  10179192               Wuhrbärgli     4253 Liesberg       2788   \n",
       "3  10250501  Hüethütte Unter Trübsee    6390 Engelberg       1511   \n",
       "4  10163108            Heimstenstich  4436 Liedertswil       2890   \n",
       "\n",
       "          COM_NAME COM_CANTON STR_TYPE STR_STATUS  STR_OFFICIAL  STR_VALID  \\\n",
       "0           Wassen         UR    Place       real          True      False   \n",
       "1       Grellingen         BL   Street       real          True       True   \n",
       "2         Liesberg         BL   Street       real          True       True   \n",
       "3  Wolfenschiessen         NW     Area       real          True       True   \n",
       "4      Liedertswil         BL     Area       real          True       True   \n",
       "\n",
       "  STR_MODIFIED  STR_EASTING  STR_NORTHING  \n",
       "0   10.09.2022          NaN           NaN  \n",
       "1   09.09.2022    2610733.0     1254311.0  \n",
       "2   26.08.2022    2598709.0     1249640.0  \n",
       "3   07.08.2021    2671798.0     1184817.0  \n",
       "4   03.03.2022    2621856.0     1248672.0  "
      ]
     },
     "execution_count": 6,
     "metadata": {},
     "output_type": "execute_result"
    }
   ],
   "source": [
    "from io import StringIO\n",
    "import pandas as pd\n",
    "\n",
    "s=str(data,'UTF-8-SIG')\n",
    "datan = StringIO(s)\n",
    "\n",
    "df = pd.read_csv(datan, encoding='UTF-8-SIG', sep=';')\n",
    "df.head()"
   ]
  },
  {
   "cell_type": "code",
   "execution_count": null,
   "id": "d3b85ed2-4c6b-4e72-bfda-a3e953cb084a",
   "metadata": {},
   "outputs": [],
   "source": []
  }
 ],
 "metadata": {
  "kernelspec": {
   "display_name": "Python 3 (ipykernel)",
   "language": "python",
   "name": "python3"
  },
  "language_info": {
   "codemirror_mode": {
    "name": "ipython",
    "version": 3
   },
   "file_extension": ".py",
   "mimetype": "text/x-python",
   "name": "python",
   "nbconvert_exporter": "python",
   "pygments_lexer": "ipython3",
   "version": "3.9.12"
  }
 },
 "nbformat": 4,
 "nbformat_minor": 5
}
