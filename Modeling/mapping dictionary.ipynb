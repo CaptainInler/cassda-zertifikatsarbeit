{
 "cells": [
  {
   "cell_type": "markdown",
   "id": "8d5234df",
   "metadata": {},
   "source": [
    "# Classifying streets using dictionaries"
   ]
  },
  {
   "cell_type": "code",
   "execution_count": 1,
   "id": "c441b5a4",
   "metadata": {},
   "outputs": [],
   "source": [
    "#Load all needed libraries\n",
    "import pandas as pd\n",
    "import time\n",
    "import ety\n",
    "import spacy #Our NLP tools\n",
    "import de_core_news_md #!python -m spacy download de_core_news_md\n",
    "import fr_core_news_md #!python -m spacy download fr_core_news_md\n",
    "import numpy as np\n",
    "from functools import reduce  \n",
    "import warnings\n",
    "import dask.dataframe as dd\n",
    "warnings.filterwarnings(\"ignore\")"
   ]
  },
  {
   "cell_type": "markdown",
   "id": "1b570a42",
   "metadata": {},
   "source": [
    "## Load all input data"
   ]
  },
  {
   "cell_type": "code",
   "execution_count": 2,
   "id": "d9662fda",
   "metadata": {},
   "outputs": [
    {
     "data": {
      "text/html": [
       "<div>\n",
       "<style scoped>\n",
       "    .dataframe tbody tr th:only-of-type {\n",
       "        vertical-align: middle;\n",
       "    }\n",
       "\n",
       "    .dataframe tbody tr th {\n",
       "        vertical-align: top;\n",
       "    }\n",
       "\n",
       "    .dataframe thead th {\n",
       "        text-align: right;\n",
       "    }\n",
       "</style>\n",
       "<table border=\"1\" class=\"dataframe\">\n",
       "  <thead>\n",
       "    <tr style=\"text-align: right;\">\n",
       "      <th></th>\n",
       "      <th>Unnamed: 0</th>\n",
       "      <th>STR_ESID</th>\n",
       "      <th>STN_LABEL</th>\n",
       "      <th>COM_FOSNR</th>\n",
       "      <th>COM_NAME</th>\n",
       "      <th>COM_CANTON</th>\n",
       "      <th>STR_OFFICIAL</th>\n",
       "      <th>STR_EASTING</th>\n",
       "      <th>STR_NORTHING</th>\n",
       "      <th>STN_LABEL_NO_BI</th>\n",
       "      <th>STN_LABEL_NO_TERMS</th>\n",
       "      <th>STR_TERMS</th>\n",
       "      <th>STR_PREPS</th>\n",
       "      <th>STN_LABEL_FINAL</th>\n",
       "    </tr>\n",
       "  </thead>\n",
       "  <tbody>\n",
       "    <tr>\n",
       "      <th>0</th>\n",
       "      <td>1</td>\n",
       "      <td>10023770</td>\n",
       "      <td>Wiedenweg</td>\n",
       "      <td>2786</td>\n",
       "      <td>Grellingen</td>\n",
       "      <td>BL</td>\n",
       "      <td>True</td>\n",
       "      <td>2610733.0</td>\n",
       "      <td>1254311.0</td>\n",
       "      <td>Wiedenweg</td>\n",
       "      <td>Wieden</td>\n",
       "      <td>weg</td>\n",
       "      <td>NaN</td>\n",
       "      <td>Wieden</td>\n",
       "    </tr>\n",
       "    <tr>\n",
       "      <th>1</th>\n",
       "      <td>2</td>\n",
       "      <td>10179192</td>\n",
       "      <td>Wuhrbärgli</td>\n",
       "      <td>2788</td>\n",
       "      <td>Liesberg</td>\n",
       "      <td>BL</td>\n",
       "      <td>True</td>\n",
       "      <td>2598709.0</td>\n",
       "      <td>1249640.0</td>\n",
       "      <td>Wuhrbärgli</td>\n",
       "      <td>Wuhrbärgli</td>\n",
       "      <td>NaN</td>\n",
       "      <td>NaN</td>\n",
       "      <td>Wuhrbärgli</td>\n",
       "    </tr>\n",
       "    <tr>\n",
       "      <th>2</th>\n",
       "      <td>9</td>\n",
       "      <td>10140563</td>\n",
       "      <td>Emanuelenweg</td>\n",
       "      <td>2829</td>\n",
       "      <td>Liestal</td>\n",
       "      <td>BL</td>\n",
       "      <td>True</td>\n",
       "      <td>2623078.0</td>\n",
       "      <td>1257558.0</td>\n",
       "      <td>Emanuelenweg</td>\n",
       "      <td>Emanuelen</td>\n",
       "      <td>weg</td>\n",
       "      <td>NaN</td>\n",
       "      <td>Emanuelen</td>\n",
       "    </tr>\n",
       "    <tr>\n",
       "      <th>3</th>\n",
       "      <td>13</td>\n",
       "      <td>10069457</td>\n",
       "      <td>Löhrweg</td>\n",
       "      <td>2850</td>\n",
       "      <td>Känerkinden</td>\n",
       "      <td>BL</td>\n",
       "      <td>True</td>\n",
       "      <td>2630229.0</td>\n",
       "      <td>1251411.0</td>\n",
       "      <td>Löhrweg</td>\n",
       "      <td>Löhr</td>\n",
       "      <td>weg</td>\n",
       "      <td>NaN</td>\n",
       "      <td>Löhr</td>\n",
       "    </tr>\n",
       "    <tr>\n",
       "      <th>4</th>\n",
       "      <td>15</td>\n",
       "      <td>10096235</td>\n",
       "      <td>Brunngasse</td>\n",
       "      <td>2833</td>\n",
       "      <td>Seltisberg</td>\n",
       "      <td>BL</td>\n",
       "      <td>True</td>\n",
       "      <td>2621406.0</td>\n",
       "      <td>1256852.0</td>\n",
       "      <td>Brunngasse</td>\n",
       "      <td>Brunn</td>\n",
       "      <td>gasse</td>\n",
       "      <td>NaN</td>\n",
       "      <td>Brunn</td>\n",
       "    </tr>\n",
       "  </tbody>\n",
       "</table>\n",
       "</div>"
      ],
      "text/plain": [
       "   Unnamed: 0  STR_ESID     STN_LABEL  COM_FOSNR     COM_NAME COM_CANTON  \\\n",
       "0           1  10023770     Wiedenweg       2786   Grellingen         BL   \n",
       "1           2  10179192    Wuhrbärgli       2788     Liesberg         BL   \n",
       "2           9  10140563  Emanuelenweg       2829      Liestal         BL   \n",
       "3          13  10069457       Löhrweg       2850  Känerkinden         BL   \n",
       "4          15  10096235    Brunngasse       2833   Seltisberg         BL   \n",
       "\n",
       "   STR_OFFICIAL  STR_EASTING  STR_NORTHING STN_LABEL_NO_BI STN_LABEL_NO_TERMS  \\\n",
       "0          True    2610733.0     1254311.0       Wiedenweg             Wieden   \n",
       "1          True    2598709.0     1249640.0      Wuhrbärgli         Wuhrbärgli   \n",
       "2          True    2623078.0     1257558.0    Emanuelenweg          Emanuelen   \n",
       "3          True    2630229.0     1251411.0         Löhrweg               Löhr   \n",
       "4          True    2621406.0     1256852.0      Brunngasse              Brunn   \n",
       "\n",
       "  STR_TERMS STR_PREPS STN_LABEL_FINAL  \n",
       "0       weg       NaN          Wieden  \n",
       "1       NaN       NaN      Wuhrbärgli  \n",
       "2       weg       NaN       Emanuelen  \n",
       "3       weg       NaN            Löhr  \n",
       "4     gasse       NaN           Brunn  "
      ]
     },
     "execution_count": 2,
     "metadata": {},
     "output_type": "execute_result"
    }
   ],
   "source": [
    "streetnames = pd.read_csv('../Datapreparation/streetnames.csv', encoding='UTF-8-SIG', sep=';')\n",
    "streetnames.head()  "
   ]
  },
  {
   "cell_type": "code",
   "execution_count": 3,
   "id": "6275ca01",
   "metadata": {},
   "outputs": [
    {
     "data": {
      "text/html": [
       "<div>\n",
       "<style scoped>\n",
       "    .dataframe tbody tr th:only-of-type {\n",
       "        vertical-align: middle;\n",
       "    }\n",
       "\n",
       "    .dataframe tbody tr th {\n",
       "        vertical-align: top;\n",
       "    }\n",
       "\n",
       "    .dataframe thead th {\n",
       "        text-align: right;\n",
       "    }\n",
       "</style>\n",
       "<table border=\"1\" class=\"dataframe\">\n",
       "  <thead>\n",
       "    <tr style=\"text-align: right;\">\n",
       "      <th></th>\n",
       "      <th>DIC_UID</th>\n",
       "      <th>DIC_Berufe</th>\n",
       "      <th>DIC_Lebewesen</th>\n",
       "      <th>DIC_Ortschaft</th>\n",
       "      <th>DIC_Gewässer</th>\n",
       "      <th>DIC_Berge</th>\n",
       "    </tr>\n",
       "  </thead>\n",
       "  <tbody>\n",
       "    <tr>\n",
       "      <th>0</th>\n",
       "      <td>1.0</td>\n",
       "      <td>Abbrucharbeiter, Abbrucharbeiterin</td>\n",
       "      <td>Ackergauchheil</td>\n",
       "      <td>Aeugst am Albis</td>\n",
       "      <td>Rhein</td>\n",
       "      <td>Albrun</td>\n",
       "    </tr>\n",
       "    <tr>\n",
       "      <th>1</th>\n",
       "      <td>2.0</td>\n",
       "      <td>Abbruchmeister, Abbruchmeisterin</td>\n",
       "      <td>Ackerröte</td>\n",
       "      <td>Aeugstertal</td>\n",
       "      <td>Aare</td>\n",
       "      <td>Antrona</td>\n",
       "    </tr>\n",
       "    <tr>\n",
       "      <th>2</th>\n",
       "      <td>3.0</td>\n",
       "      <td>Abbruchtechniker, Abbruchtechnikerin</td>\n",
       "      <td>Ackerschotendotter</td>\n",
       "      <td>Zwillikon</td>\n",
       "      <td>Rhone</td>\n",
       "      <td>Augstbord</td>\n",
       "    </tr>\n",
       "    <tr>\n",
       "      <th>3</th>\n",
       "      <td>4.0</td>\n",
       "      <td>Abdecker</td>\n",
       "      <td>Adelgras</td>\n",
       "      <td>Affoltern am Albis</td>\n",
       "      <td>Reuss</td>\n",
       "      <td>Balme</td>\n",
       "    </tr>\n",
       "    <tr>\n",
       "      <th>4</th>\n",
       "      <td>5.0</td>\n",
       "      <td>Abfallbeseitiger, Abfallbeseitigerin</td>\n",
       "      <td>Adlerfarn</td>\n",
       "      <td>Bonstetten</td>\n",
       "      <td>Thur</td>\n",
       "      <td>Barna</td>\n",
       "    </tr>\n",
       "  </tbody>\n",
       "</table>\n",
       "</div>"
      ],
      "text/plain": [
       "   DIC_UID                            DIC_Berufe       DIC_Lebewesen  \\\n",
       "0      1.0    Abbrucharbeiter, Abbrucharbeiterin      Ackergauchheil   \n",
       "1      2.0      Abbruchmeister, Abbruchmeisterin           Ackerröte   \n",
       "2      3.0  Abbruchtechniker, Abbruchtechnikerin  Ackerschotendotter   \n",
       "3      4.0                              Abdecker            Adelgras   \n",
       "4      5.0  Abfallbeseitiger, Abfallbeseitigerin           Adlerfarn   \n",
       "\n",
       "        DIC_Ortschaft DIC_Gewässer  DIC_Berge  \n",
       "0     Aeugst am Albis        Rhein     Albrun  \n",
       "1         Aeugstertal         Aare    Antrona  \n",
       "2           Zwillikon        Rhone  Augstbord  \n",
       "3  Affoltern am Albis        Reuss      Balme  \n",
       "4          Bonstetten         Thur      Barna  "
      ]
     },
     "execution_count": 3,
     "metadata": {},
     "output_type": "execute_result"
    }
   ],
   "source": [
    "wictionary = pd.read_csv('in_dictionary.csv',encoding='UTF-8-SIG', sep=';')\n",
    "wictionary.head() "
   ]
  },
  {
   "cell_type": "markdown",
   "id": "354941c2",
   "metadata": {},
   "source": [
    "## Create classification table"
   ]
  },
  {
   "cell_type": "code",
   "execution_count": 4,
   "id": "1529c3ab",
   "metadata": {},
   "outputs": [],
   "source": [
    "classif = streetnames"
   ]
  },
  {
   "cell_type": "code",
   "execution_count": 5,
   "id": "ff6d3aaf",
   "metadata": {},
   "outputs": [
    {
     "data": {
      "text/plain": [
       "Index(['Unnamed: 0', 'STR_ESID', 'STN_LABEL', 'COM_FOSNR', 'COM_NAME',\n",
       "       'COM_CANTON', 'STR_OFFICIAL', 'STR_EASTING', 'STR_NORTHING',\n",
       "       'STN_LABEL_NO_BI', 'STN_LABEL_NO_TERMS', 'STR_TERMS', 'STR_PREPS',\n",
       "       'STN_LABEL_FINAL'],\n",
       "      dtype='object')"
      ]
     },
     "execution_count": 5,
     "metadata": {},
     "output_type": "execute_result"
    }
   ],
   "source": [
    "classif.columns"
   ]
  },
  {
   "cell_type": "code",
   "execution_count": 6,
   "id": "f46202fe",
   "metadata": {},
   "outputs": [
    {
     "data": {
      "text/html": [
       "<div>\n",
       "<style scoped>\n",
       "    .dataframe tbody tr th:only-of-type {\n",
       "        vertical-align: middle;\n",
       "    }\n",
       "\n",
       "    .dataframe tbody tr th {\n",
       "        vertical-align: top;\n",
       "    }\n",
       "\n",
       "    .dataframe thead th {\n",
       "        text-align: right;\n",
       "    }\n",
       "</style>\n",
       "<table border=\"1\" class=\"dataframe\">\n",
       "  <thead>\n",
       "    <tr style=\"text-align: right;\">\n",
       "      <th></th>\n",
       "      <th>STR_ESID</th>\n",
       "      <th>STN_LABEL</th>\n",
       "      <th>STN_LABEL_FINAL</th>\n",
       "    </tr>\n",
       "  </thead>\n",
       "  <tbody>\n",
       "    <tr>\n",
       "      <th>0</th>\n",
       "      <td>10023770</td>\n",
       "      <td>Wiedenweg</td>\n",
       "      <td>Wieden</td>\n",
       "    </tr>\n",
       "    <tr>\n",
       "      <th>1</th>\n",
       "      <td>10179192</td>\n",
       "      <td>Wuhrbärgli</td>\n",
       "      <td>Wuhrbärgli</td>\n",
       "    </tr>\n",
       "    <tr>\n",
       "      <th>2</th>\n",
       "      <td>10140563</td>\n",
       "      <td>Emanuelenweg</td>\n",
       "      <td>Emanuelen</td>\n",
       "    </tr>\n",
       "    <tr>\n",
       "      <th>3</th>\n",
       "      <td>10069457</td>\n",
       "      <td>Löhrweg</td>\n",
       "      <td>Löhr</td>\n",
       "    </tr>\n",
       "    <tr>\n",
       "      <th>4</th>\n",
       "      <td>10096235</td>\n",
       "      <td>Brunngasse</td>\n",
       "      <td>Brunn</td>\n",
       "    </tr>\n",
       "    <tr>\n",
       "      <th>...</th>\n",
       "      <td>...</td>\n",
       "      <td>...</td>\n",
       "      <td>...</td>\n",
       "    </tr>\n",
       "    <tr>\n",
       "      <th>172062</th>\n",
       "      <td>10107114</td>\n",
       "      <td>Tannenstrasse</td>\n",
       "      <td>Tannen</td>\n",
       "    </tr>\n",
       "    <tr>\n",
       "      <th>172063</th>\n",
       "      <td>10070806</td>\n",
       "      <td>Rebenstrasse</td>\n",
       "      <td>Reben</td>\n",
       "    </tr>\n",
       "    <tr>\n",
       "      <th>172064</th>\n",
       "      <td>10142291</td>\n",
       "      <td>Fritz-Gegauf-Strasse</td>\n",
       "      <td>Fritz Gegauf</td>\n",
       "    </tr>\n",
       "    <tr>\n",
       "      <th>172065</th>\n",
       "      <td>10093237</td>\n",
       "      <td>Obere Bleichewiese</td>\n",
       "      <td>Bleichewiese</td>\n",
       "    </tr>\n",
       "    <tr>\n",
       "      <th>172066</th>\n",
       "      <td>10190342</td>\n",
       "      <td>Unterdorfstrasse</td>\n",
       "      <td>Unterdorf</td>\n",
       "    </tr>\n",
       "  </tbody>\n",
       "</table>\n",
       "<p>172067 rows × 3 columns</p>\n",
       "</div>"
      ],
      "text/plain": [
       "        STR_ESID             STN_LABEL STN_LABEL_FINAL\n",
       "0       10023770             Wiedenweg          Wieden\n",
       "1       10179192            Wuhrbärgli      Wuhrbärgli\n",
       "2       10140563          Emanuelenweg       Emanuelen\n",
       "3       10069457               Löhrweg            Löhr\n",
       "4       10096235            Brunngasse           Brunn\n",
       "...          ...                   ...             ...\n",
       "172062  10107114         Tannenstrasse          Tannen\n",
       "172063  10070806          Rebenstrasse           Reben\n",
       "172064  10142291  Fritz-Gegauf-Strasse    Fritz Gegauf\n",
       "172065  10093237    Obere Bleichewiese    Bleichewiese\n",
       "172066  10190342      Unterdorfstrasse       Unterdorf\n",
       "\n",
       "[172067 rows x 3 columns]"
      ]
     },
     "execution_count": 6,
     "metadata": {},
     "output_type": "execute_result"
    }
   ],
   "source": [
    "classif = classif.drop(['Unnamed: 0', 'COM_NAME', 'COM_CANTON','STR_EASTING', 'STR_NORTHING','COM_FOSNR',\n",
    "                        'STR_OFFICIAL','STR_TERMS', 'STR_PREPS', 'STN_LABEL_NO_BI', 'STN_LABEL_NO_TERMS'], axis=1)\n",
    "classif"
   ]
  },
  {
   "cell_type": "code",
   "execution_count": 7,
   "id": "0637f73d",
   "metadata": {},
   "outputs": [
    {
     "name": "stdout",
     "output_type": "stream",
     "text": [
      "                 Missing Values\n",
      "STR_ESID                      0\n",
      "STN_LABEL                     0\n",
      "STN_LABEL_FINAL             591\n"
     ]
    }
   ],
   "source": [
    "missing_data = pd.DataFrame(\n",
    "    classif.isnull().sum(),\n",
    "    columns=['Missing Values'])\n",
    "\n",
    "print(missing_data)\n",
    "\n",
    "classif = classif.dropna()"
   ]
  },
  {
   "cell_type": "markdown",
   "id": "3f1c4c22",
   "metadata": {},
   "source": [
    "## Mapping wictionary lists\n",
    "https://de.wiktionary.org/wiki/Verzeichnis:Deutsch/Tiere\n",
    "\n",
    "https://de.wiktionary.org/wiki/Verzeichnis:Deutsch/Pflanzen\n",
    "\n",
    "https://de.wiktionary.org/wiki/Verzeichnis:Deutsch/Berufe\n",
    "\n",
    "https://www.bafu.admin.ch/bafu/de/home/themen/wasser/zustand/karten/karten-und-abgeleitete-daten/gewaessernetz-der-schweiz.html\n",
    "\n",
    "https://de.wikipedia.org/wiki/Liste_der_P%C3%A4sse_in_der_Schweiz\n",
    "https://de.wikipedia.org/wiki/Liste_von_Bergen_in_der_Schweiz"
   ]
  },
  {
   "cell_type": "markdown",
   "id": "655e0093",
   "metadata": {},
   "source": [
    "### Lebewesen"
   ]
  },
  {
   "cell_type": "code",
   "execution_count": 8,
   "id": "ac88fe4f",
   "metadata": {},
   "outputs": [],
   "source": [
    "dic_lebewesen = wictionary.DIC_Lebewesen.dropna()\n",
    "\n",
    "special = (['.', ' '],[',', ' '],[';', ' '],[':', ' '],['-', ' '],['\\'', ' '],[',', ' '],[' ', ' '],\n",
    "['è', 'e'],['é', 'e'],['ê', 'e'],['ë', 'e'],['à', 'a'],['á', 'a'],['â', 'a'],['ô', 'o'],['ò', 'o'],['ó', 'o'],\n",
    "['û', 'u'],['ù', 'u'],['ú', 'u'],['ï', 'i'],['í', 'i'],['î', 'i'],['ç', 'c'])\n",
    "# Not useful for matching with wikidata,['ä', 'ae'],['ü', 'ue'],['ö', 'oe']        )\n",
    "\n",
    "for i in special:\n",
    "    dic_lebewesen = dic_lebewesen.str.replace(i[0],i[1],case=False, regex=True)\n",
    "    \n",
    "#Delete spaces at the beginning and end of the string using function 'strip()'\n",
    "dic_lebewesen = dic_lebewesen.str.strip()\n",
    "\n",
    "dic_lebewesen = dic_lebewesen.str.replace(\"\\ .*$\",\"\", regex=True)"
   ]
  },
  {
   "cell_type": "code",
   "execution_count": 9,
   "id": "618f99a2",
   "metadata": {},
   "outputs": [],
   "source": [
    "sorted_items = sorted(dic_lebewesen.items(), key = lambda item : len(item[1]))"
   ]
  },
  {
   "cell_type": "code",
   "execution_count": 10,
   "id": "c005eeaf",
   "metadata": {},
   "outputs": [],
   "source": [
    "#Delete most words with three or less characters\n",
    "to_del = [419, 1190,304, 781, 832, 863, 980, 1076,1124,1155,1168,1170,1233,1321,1323,1347,1427,1473,1492,1544,\n",
    "          1648,1708,1709,1817,1999,2001,2331,2408,2622,2668,3150]\n",
    "\n",
    "for i in to_del:\n",
    "    del dic_lebewesen[i]"
   ]
  },
  {
   "cell_type": "code",
   "execution_count": 11,
   "id": "de530347",
   "metadata": {},
   "outputs": [
    {
     "data": {
      "text/plain": [
       "0        Ackergauchheil\n",
       "1             Ackerröte\n",
       "2    Ackerschotendotter\n",
       "3              Adelgras\n",
       "4             Adlerfarn\n",
       "5         Adonisröschen\n",
       "6                  Agar\n",
       "7                 Agave\n",
       "8            Ährenlilie\n",
       "9                 Ahorn\n",
       "Name: DIC_Lebewesen, dtype: object"
      ]
     },
     "execution_count": 11,
     "metadata": {},
     "output_type": "execute_result"
    }
   ],
   "source": [
    "dic_lebewesen[:10]"
   ]
  },
  {
   "cell_type": "markdown",
   "id": "530d9175",
   "metadata": {},
   "source": [
    "Do the mapping"
   ]
  },
  {
   "cell_type": "code",
   "execution_count": 12,
   "id": "1ea39f3c",
   "metadata": {},
   "outputs": [
    {
     "name": "stdout",
     "output_type": "stream",
     "text": [
      "Number of matches:  14100\n",
      "CPU times: total: 6min 11s\n",
      "Wall time: 6min 29s\n"
     ]
    },
    {
     "data": {
      "text/plain": [
       "DIC_Lebewesen\n",
       "Stein    906\n",
       "Berg     814\n",
       "Rose     674\n",
       "Linde    641\n",
       "Birke    440\n",
       "Hase     373\n",
       "Buche    303\n",
       "Ahorn    244\n",
       "Wolf     237\n",
       "Bär      220\n",
       "Name: STR_ESID, dtype: int64"
      ]
     },
     "execution_count": 12,
     "metadata": {},
     "output_type": "execute_result"
    }
   ],
   "source": [
    "%%time \n",
    "\n",
    "warnings.filterwarnings(\"ignore\")\n",
    "\n",
    "for i in dic_lebewesen:\n",
    "    classif.loc[classif.STN_LABEL_FINAL.str.match(i,case=False), 'DIC_Lebewesen'] = i\n",
    "  \n",
    "print(\"Number of matches: \", classif['DIC_Lebewesen'].notna().sum())\n",
    "\n",
    "most_common = classif.groupby(\"DIC_Lebewesen\").count()\n",
    "most_common.STR_ESID.nlargest(10)\n",
    "# Following names were deleted from dic_Lebewesen: "
   ]
  },
  {
   "cell_type": "markdown",
   "id": "df62237b",
   "metadata": {},
   "source": [
    "### Municipalities"
   ]
  },
  {
   "cell_type": "code",
   "execution_count": 13,
   "id": "33ee2d06",
   "metadata": {},
   "outputs": [],
   "source": [
    "dic_Ortschaft = wictionary.DIC_Ortschaft.dropna()\n",
    "dic_Ortschaft = dic_Ortschaft.str.replace(\"(\\().*\",\"\", regex=True)\n",
    "dic_Ortschaft = dic_Ortschaft.str.replace(\"(/).*\",\"\", regex=True)\n",
    "dic_Ortschaft = dic_Ortschaft.str.replace(\"Le \",\"\", regex=True)\n",
    "dic_Ortschaft = dic_Ortschaft.str.replace(\"La \",\"\", regex=True)\n",
    "dic_Ortschaft = dic_Ortschaft.str.replace(\"Les \",\"\", regex=True)\n",
    "dic_Ortschaft = dic_Ortschaft.str.replace(\"L'\",\"\", regex=True)\n",
    "dic_Ortschaft = dic_Ortschaft.str.replace(\"St \",\"\", regex=True)\n",
    "dic_Ortschaft = dic_Ortschaft.str.replace(\"St. \",\"\", regex=True)\n",
    "dic_Ortschaft = dic_Ortschaft.str.replace(\"Ste \",\"\", regex=True)\n",
    "dic_Ortschaft = dic_Ortschaft.str.replace(\"S. \",\"\", regex=True)\n",
    "dic_Ortschaft = dic_Ortschaft.str.replace(\"St-\",\"\", regex=True)\n",
    "\n",
    "\n",
    "special = (['.', ' '],[',', ' '],[';', ' '],[':', ' '],['-', ' '],['\\'', ' '],[',', ' '],[' ', ' '],\n",
    "['è', 'e'],['é', 'e'],['ê', 'e'],['ë', 'e'],['à', 'a'],['á', 'a'],['â', 'a'],['ô', 'o'],['ò', 'o'],['ó', 'o'],\n",
    "['û', 'u'],['ù', 'u'],['ú', 'u'],['ï', 'i'],['í', 'i'],['î', 'i'],['ç', 'c'])\n",
    "# Not useful for matching with wikidata,['ä', 'ae'],['ü', 'ue'],['ö', 'oe']        )\n",
    "\n",
    "\n",
    "for i in special:\n",
    "    dic_Ortschaft = dic_Ortschaft.str.replace(i[0],i[1],case=False, regex=True)\n",
    "    \n",
    "#Delete spaces at the beginning and end of the string using function 'strip()'\n",
    "dic_Ortschaft = dic_Ortschaft.str.strip()\n",
    "\n",
    "dic_Ortschaft = dic_Ortschaft.str.replace(\"\\ .*\",\"\", regex=True)\n",
    "\n",
    "pd.set_option('display.max_rows', 5000)\n",
    "#dic_Ortschaft[:300]\n"
   ]
  },
  {
   "cell_type": "code",
   "execution_count": 14,
   "id": "71004b55",
   "metadata": {},
   "outputs": [],
   "source": [
    "sorted_items = sorted(dic_Ortschaft.items(), key = lambda item : len(item[1]))"
   ]
  },
  {
   "cell_type": "code",
   "execution_count": 15,
   "id": "ee890f6e",
   "metadata": {},
   "outputs": [],
   "source": [
    "#Delete most words with three or less characters\n",
    "to_del = [2178,272, 1325,1830,2051,2224,2706,3989,73, 171, 481, 681, 1056,1162,1201,1269,1307,1441,1861,1871,1932,1938,\n",
    "          1956,1975,1998,2011,2018,2027,2045,2122,2165,2182,2203,2204,2226,2328,2466,2496,2574,2950,3110,3169,3190,3212,3224,3246,\n",
    "          3596,3649,3663,3688,3694,3745,3785,3807,3815,3924,22,24,26,107,109,119,121,198,444,449,456,458,519,656,751,915,\n",
    "         1161,1170,1436]\n",
    "\n",
    "for i in to_del:\n",
    "    del dic_Ortschaft[i]"
   ]
  },
  {
   "cell_type": "code",
   "execution_count": 16,
   "id": "006dcf22",
   "metadata": {},
   "outputs": [
    {
     "data": {
      "text/plain": [
       "array(['Aeugst', 'Aeugstertal', 'Zwillikon', ..., 'Gamprin', 'Ruggell',\n",
       "       'Schellenberg'], dtype=object)"
      ]
     },
     "execution_count": 16,
     "metadata": {},
     "output_type": "execute_result"
    }
   ],
   "source": [
    "dic_Ortschaft = dic_Ortschaft.unique()\n",
    "dic_Ortschaft"
   ]
  },
  {
   "cell_type": "code",
   "execution_count": 17,
   "id": "ef5c97e8",
   "metadata": {},
   "outputs": [
    {
     "name": "stdout",
     "output_type": "stream",
     "text": [
      "Number of matches:  32449\n",
      "CPU times: total: 7min 11s\n",
      "Wall time: 7min 54s\n"
     ]
    },
    {
     "data": {
      "text/plain": [
       "DIC_Ortschaft\n",
       "Stein       856\n",
       "Berg        814\n",
       "Eich        760\n",
       "Linden      619\n",
       "Halden      613\n",
       "Buch        595\n",
       "Champ       589\n",
       "Wald        495\n",
       "Oberdorf    494\n",
       "Burg        493\n",
       "Name: STR_ESID, dtype: int64"
      ]
     },
     "execution_count": 17,
     "metadata": {},
     "output_type": "execute_result"
    }
   ],
   "source": [
    "%%time \n",
    "\n",
    "warnings.filterwarnings(\"ignore\")\n",
    "\n",
    "for i in dic_Ortschaft:\n",
    "    classif.loc[classif.STN_LABEL_FINAL.str.match(i,case=False), 'DIC_Ortschaft'] = i\n",
    "  \n",
    "print(\"Number of matches: \", classif['DIC_Ortschaft'].notna().sum())\n",
    "\n",
    "most_common = classif.groupby(\"DIC_Ortschaft\").count()\n",
    "most_common.STR_ESID.nlargest(10)\n",
    "\n",
    "# Following names were deleted from dic_Lebewesen: "
   ]
  },
  {
   "cell_type": "markdown",
   "id": "70d4a989",
   "metadata": {},
   "source": [
    "### Professions"
   ]
  },
  {
   "cell_type": "code",
   "execution_count": 18,
   "id": "cdee2041",
   "metadata": {},
   "outputs": [
    {
     "data": {
      "text/plain": [
       "0          Abbrucharbeiter, Abbrucharbeiterin\n",
       "1            Abbruchmeister, Abbruchmeisterin\n",
       "2        Abbruchtechniker, Abbruchtechnikerin\n",
       "3                                    Abdecker\n",
       "4        Abfallbeseitiger, Abfallbeseitigerin\n",
       "                         ...                 \n",
       "25053                                 Zwirner\n",
       "25054                                Zytologe\n",
       "25055                       Zytologielaborant\n",
       "25056                           Zytotechniker\n",
       "25057               Zytotechnischer Assistent\n",
       "Name: DIC_Berufe, Length: 25058, dtype: object"
      ]
     },
     "execution_count": 18,
     "metadata": {},
     "output_type": "execute_result"
    }
   ],
   "source": [
    "dic_Berufe = wictionary.DIC_Berufe.dropna()\n",
    "dic_Berufe"
   ]
  },
  {
   "cell_type": "code",
   "execution_count": 19,
   "id": "6feb6a41",
   "metadata": {},
   "outputs": [
    {
     "data": {
      "text/plain": [
       "0     Abbrucharbeiter\n",
       "1      Abbruchmeister\n",
       "2    Abbruchtechniker\n",
       "3            Abdecker\n",
       "4    Abfallbeseitiger\n",
       "5        Abgeordneter\n",
       "6           ABM-Kraft\n",
       "7                 Abt\n",
       "8    Abteilungsleiter\n",
       "9      Achatschleifer\n",
       "Name: DIC_Berufe, dtype: object"
      ]
     },
     "execution_count": 19,
     "metadata": {},
     "output_type": "execute_result"
    }
   ],
   "source": [
    "dic_Berufe = dic_Berufe.str.replace(\"(\\().*\",\"\", regex=True)\n",
    "dic_Berufe = dic_Berufe.str.replace(\"(\\)).*\",\"\", regex=True)\n",
    "dic_Berufe = dic_Berufe.str.replace(\",.*\",\"\", regex=True)\n",
    "#dic_Berufe = dic_Berufe.unique()\n",
    "pd.set_option('display.max_rows', 5000)\n",
    "dic_Berufe[:10]"
   ]
  },
  {
   "cell_type": "code",
   "execution_count": 20,
   "id": "c5e5337b",
   "metadata": {},
   "outputs": [
    {
     "name": "stdout",
     "output_type": "stream",
     "text": [
      "Number of matches:  2830\n",
      "CPU times: total: 42min 6s\n",
      "Wall time: 44min 22s\n"
     ]
    },
    {
     "data": {
      "text/plain": [
       "DIC_Berufe\n",
       "Berger     160\n",
       "Senn       157\n",
       "Linger     153\n",
       "Käser      144\n",
       "Schmied    143\n",
       "Fischer     84\n",
       "Weber       80\n",
       "Jäger       75\n",
       "Müller      64\n",
       "General     61\n",
       "Name: STR_ESID, dtype: int64"
      ]
     },
     "execution_count": 20,
     "metadata": {},
     "output_type": "execute_result"
    }
   ],
   "source": [
    "%%time \n",
    "\n",
    "warnings.filterwarnings(\"ignore\")\n",
    "\n",
    "for i in dic_Berufe:\n",
    "    classif.loc[classif.STN_LABEL_FINAL.str.contains(i,case=False), 'DIC_Berufe'] = i\n",
    "  \n",
    "print(\"Number of matches: \", classif['DIC_Berufe'].notna().sum())\n",
    "\n",
    "most_common = classif.groupby(\"DIC_Berufe\").count()\n",
    "most_common.STR_ESID.nlargest(10)\n",
    "\n",
    "# Following names were deleted from dic_Lebewesen: ober, oste"
   ]
  },
  {
   "cell_type": "markdown",
   "id": "77a61db7",
   "metadata": {},
   "source": [
    "### Water bodies"
   ]
  },
  {
   "cell_type": "code",
   "execution_count": 21,
   "id": "b2de825d",
   "metadata": {},
   "outputs": [
    {
     "data": {
      "text/plain": [
       "0    Rhein\n",
       "1     Aare\n",
       "2    Rhone\n",
       "3    Reuss\n",
       "4     Thur\n",
       "Name: DIC_Gewässer, dtype: object"
      ]
     },
     "execution_count": 21,
     "metadata": {},
     "output_type": "execute_result"
    }
   ],
   "source": [
    "dic_gewässer = wictionary.DIC_Gewässer.dropna()\n",
    "dic_gewässer.head()"
   ]
  },
  {
   "cell_type": "code",
   "execution_count": 22,
   "id": "d454f2d3",
   "metadata": {},
   "outputs": [],
   "source": [
    "dic_gewässer_self = ('^see','see$','seeli', '^lac$', 'lago', '^lai$ ', 'bach$', 'weiher', 'wasser','^leman', \n",
    "                     'dranse' ,'^rives', 'ufer$','ruisseau', 'gorges', 'bächli')"
   ]
  },
  {
   "cell_type": "code",
   "execution_count": 23,
   "id": "967609f0",
   "metadata": {},
   "outputs": [
    {
     "name": "stdout",
     "output_type": "stream",
     "text": [
      "Number of matches:  4916\n",
      "CPU times: total: 24.5 s\n",
      "Wall time: 30.3 s\n"
     ]
    },
    {
     "data": {
      "text/plain": [
       "DIC_Gewässer\n",
       "bach$     2030\n",
       "^see       488\n",
       "weiher     374\n",
       "see$       353\n",
       "Rhein      206\n",
       "bächli     156\n",
       "wasser     129\n",
       "Thur        94\n",
       "Aare        88\n",
       "^lac$       79\n",
       "Name: STR_ESID, dtype: int64"
      ]
     },
     "execution_count": 23,
     "metadata": {},
     "output_type": "execute_result"
    }
   ],
   "source": [
    "%%time \n",
    "\n",
    "warnings.filterwarnings(\"ignore\")\n",
    "\n",
    "for i in dic_gewässer_self:\n",
    "    classif.loc[classif.STN_LABEL_FINAL.str.contains(i,case=False), 'DIC_Gewässer'] = i\n",
    "\n",
    "for i in dic_gewässer:\n",
    "    classif.loc[classif.STN_LABEL_FINAL.str.match(i,case=False), 'DIC_Gewässer'] = i\n",
    "  \n",
    "print(\"Number of matches: \", classif['DIC_Gewässer'].notna().sum())\n",
    "\n",
    "most_common = classif.groupby(\"DIC_Gewässer\").count()\n",
    "most_common.STR_ESID.nlargest(10)"
   ]
  },
  {
   "cell_type": "markdown",
   "id": "4137296e",
   "metadata": {},
   "source": [
    "### Mountains"
   ]
  },
  {
   "cell_type": "code",
   "execution_count": 24,
   "id": "288495b0",
   "metadata": {},
   "outputs": [],
   "source": [
    "dic_berg = wictionary.DIC_Berge.dropna()\n",
    "dic_berg = dic_berg.str.replace(\"Piz \",\"\", regex=True)\n",
    "dic_berg = dic_berg.str.replace(\"Pizzo \",\"\", regex=True)\n",
    "# Following names were deleted from dic_Lebewesen: Cou, Dom, Lys, Croix"
   ]
  },
  {
   "cell_type": "code",
   "execution_count": 25,
   "id": "a4510c27",
   "metadata": {},
   "outputs": [],
   "source": [
    "sorted_items = sorted(dic_berg.items(), key = lambda item : len(item[1]))"
   ]
  },
  {
   "cell_type": "code",
   "execution_count": 26,
   "id": "df8d9f37",
   "metadata": {},
   "outputs": [
    {
     "data": {
      "text/plain": [
       "0                     Albrun\n",
       "1                    Antrona\n",
       "2                  Augstbord\n",
       "3                      Balme\n",
       "4                      Barna\n",
       "5    Bocchetta di Val Maggia\n",
       "6                      Boeuf\n",
       "7              Bunderchrinde\n",
       "8                   Carmenna\n",
       "9                    Carnusa\n",
       "Name: DIC_Berge, dtype: object"
      ]
     },
     "execution_count": 26,
     "metadata": {},
     "output_type": "execute_result"
    }
   ],
   "source": [
    "#Delete most words with three or less characters\n",
    "to_del = [26,166,366,49,64]\n",
    "\n",
    "for i in to_del:\n",
    "    del dic_berg[i]\n",
    "    \n",
    "dic_berg[:10]"
   ]
  },
  {
   "cell_type": "code",
   "execution_count": 27,
   "id": "e456941f",
   "metadata": {},
   "outputs": [],
   "source": [
    "dic_berg_self = ('berg$', 'piz ', ' mont', 'pass$', 'höhe', 'monte ', 'gletscher', 'glacier', 'alpen', 'jura',\n",
    "                'alpes')"
   ]
  },
  {
   "cell_type": "code",
   "execution_count": 28,
   "id": "789f0204",
   "metadata": {},
   "outputs": [
    {
     "name": "stdout",
     "output_type": "stream",
     "text": [
      "Number of matches:  7433\n",
      "CPU times: total: 55.4 s\n",
      "Wall time: 59.1 s\n"
     ]
    },
    {
     "data": {
      "text/plain": [
       "DIC_Berg\n",
       "berg$       3747\n",
       "höhe         502\n",
       "jura         274\n",
       "alpen        225\n",
       "Rigi         139\n",
       "Säntis       122\n",
       " mont        105\n",
       "Pilatus       89\n",
       "Bachtel       80\n",
       "Planches      67\n",
       "Name: STR_ESID, dtype: int64"
      ]
     },
     "execution_count": 28,
     "metadata": {},
     "output_type": "execute_result"
    }
   ],
   "source": [
    "%%time \n",
    "\n",
    "warnings.filterwarnings(\"ignore\")\n",
    "\n",
    "for i in dic_berg_self:\n",
    "    classif.loc[classif.STN_LABEL_FINAL.str.contains(i,case=False), 'DIC_Berg'] = i\n",
    "\n",
    "for i in dic_berg:\n",
    "    classif.loc[classif.STN_LABEL_FINAL.str.match(i,case=False), 'DIC_Berg'] = i\n",
    "  \n",
    "print(\"Number of matches: \", classif['DIC_Berg'].notna().sum())\n",
    "\n",
    "most_common = classif.groupby(\"DIC_Berg\").count()\n",
    "most_common.STR_ESID.nlargest(10)"
   ]
  },
  {
   "cell_type": "markdown",
   "id": "572292de",
   "metadata": {},
   "source": [
    "## Self Classifier"
   ]
  },
  {
   "cell_type": "markdown",
   "id": "2123141c",
   "metadata": {},
   "source": [
    "### Settlement names"
   ]
  },
  {
   "cell_type": "code",
   "execution_count": 29,
   "id": "286b46f7",
   "metadata": {},
   "outputs": [],
   "source": [
    "dic_Siedlung = ('dorf', 'bahnhof', 'schul', 'haupt',  'antenne', 'bahn', 'dörfli', 'hof$',\n",
    "                'flughafen',  'ort', 'quartier', 'tunnel', 'brücke', 'wehr','garten', 'kaserne',\n",
    "                'mühle', 'post', 'industrie',  'hof ',  'schloss', 'spital', 'alp ', 'kanal', 'casino',\n",
    "                'burg', 'damm', 'reservoir','gewerbe', 'park', 'auto', 'treppe', 'unterführ', 'museum',\n",
    "                'haus','turm', 'mauer', 'stadion', 'sport', 'fabrik', 'scheibenstand', 'schleuse',\n",
    "                'turbine', 'antenne', 'camping', '^golf','schwimmbad', '^badi$', 'zoo', '^flug', 'werk', 'markt',\n",
    "                'village', 'gare', 'ecole', 'lieu', 'gare', 'musee',\n",
    "                'aero', '^pont', 'pont$', 'jardin', 'chateau','industrie', 'parc',\n",
    "                'moulin', 'college', '^digue', 'barrage', 'escalier', 'passerelle','^tour','tir ',\n",
    "                '^stade$', 'ciblerie', '^port$', 'ecluse','^perron', 'piscine', 'centrale', 'hopital',\n",
    "                'ville$', 'ferme', '^bourg', 'stand', 'canal',\n",
    "                'villaggio', 'stazione', 'scola', 'ferrovia')"
   ]
  },
  {
   "cell_type": "code",
   "execution_count": 30,
   "id": "767b6972",
   "metadata": {},
   "outputs": [
    {
     "name": "stdout",
     "output_type": "stream",
     "text": [
      "Number of matches:  19780\n",
      "CPU times: total: 11.9 s\n",
      "Wall time: 12.5 s\n"
     ]
    },
    {
     "data": {
      "text/plain": [
       "DIC_Siedlung\n",
       "hof$      2875\n",
       "dorf      2450\n",
       "haus      1501\n",
       "garten    1443\n",
       "mühle     1034\n",
       "burg       893\n",
       "schul      723\n",
       "ort        548\n",
       "haupt      536\n",
       "post       524\n",
       "Name: STR_ESID, dtype: int64"
      ]
     },
     "execution_count": 30,
     "metadata": {},
     "output_type": "execute_result"
    }
   ],
   "source": [
    "%%time \n",
    "\n",
    "warnings.filterwarnings(\"ignore\")\n",
    "\n",
    "for i in dic_Siedlung:\n",
    "    classif.loc[classif.STN_LABEL_FINAL.str.contains(i,case=False), 'DIC_Siedlung'] = i\n",
    "  \n",
    "print(\"Number of matches: \", classif['DIC_Siedlung'].notna().sum())\n",
    "\n",
    "most_common = classif.groupby(\"DIC_Siedlung\").count()\n",
    "most_common.STR_ESID.nlargest(10)"
   ]
  },
  {
   "cell_type": "markdown",
   "id": "13a5987c",
   "metadata": {},
   "source": [
    "### Religious names"
   ]
  },
  {
   "cell_type": "code",
   "execution_count": 31,
   "id": "34f6ac3b",
   "metadata": {},
   "outputs": [],
   "source": [
    "dic_Religion = ('kirch', 'eglise', 'kapelle$', 'sacre', 'kloster', 'friedhof', 'kreuz'\n",
    "               ,'chapelle', 'croix', 'chilch', 'pfarr','himmel', 'jerusalem', 'couvent')"
   ]
  },
  {
   "cell_type": "code",
   "execution_count": 32,
   "id": "2ca6f645",
   "metadata": {},
   "outputs": [
    {
     "name": "stdout",
     "output_type": "stream",
     "text": [
      "Number of matches:  2788\n",
      "CPU times: total: 1.8 s\n",
      "Wall time: 1.82 s\n"
     ]
    },
    {
     "data": {
      "text/plain": [
       "DIC_Religion\n",
       "kirch       1237\n",
       "kreuz        382\n",
       "eglise       252\n",
       "friedhof     207\n",
       "croix        168\n",
       "chapelle     144\n",
       "kloster      137\n",
       "pfarr         96\n",
       "chilch        94\n",
       "himmel        52\n",
       "Name: STR_ESID, dtype: int64"
      ]
     },
     "execution_count": 32,
     "metadata": {},
     "output_type": "execute_result"
    }
   ],
   "source": [
    "%%time \n",
    "\n",
    "warnings.filterwarnings(\"ignore\")\n",
    "\n",
    "for i in dic_Religion:\n",
    "    classif.loc[classif.STN_LABEL_FINAL.str.contains(i,case=False), 'DIC_Religion'] = i\n",
    "  \n",
    "print(\"Number of matches: \", classif['DIC_Religion'].notna().sum())\n",
    "\n",
    "most_common = classif.groupby(\"DIC_Religion\").count()\n",
    "most_common.STR_ESID.nlargest(10)"
   ]
  },
  {
   "cell_type": "markdown",
   "id": "2a5a46ba",
   "metadata": {},
   "source": [
    "### Names describing natural places"
   ]
  },
  {
   "cell_type": "code",
   "execution_count": 33,
   "id": "354c863d",
   "metadata": {},
   "outputs": [],
   "source": [
    "dic_natur =( 'grabe','halden', 'matt', 'bärgli','tal$', 'tobel', 'loch$', 'egga', 'egg$', 'egge$,','^eggen', 'wald', \n",
    "            'weid', 'rain', 'grund', 'büel', 'täli', 'tälli', 'grat$', 'laui','^furt$', 'boden', 'klus', 'holz', 'feld',\n",
    "            'zelgli', 'allmend', 'land$','ried$', 'bühl','riet', 'acker','wiese', 'moos', 'rüti',\n",
    "            'plateau', 'combe', 'vallon','valle$', 'creux', 'cresta', 'crete','^bois',\n",
    "            '^val ', 'vallone','^val$')"
   ]
  },
  {
   "cell_type": "code",
   "execution_count": 34,
   "id": "8506f7b8",
   "metadata": {},
   "outputs": [
    {
     "name": "stdout",
     "output_type": "stream",
     "text": [
      "Number of matches:  31245\n",
      "CPU times: total: 6.03 s\n",
      "Wall time: 6.2 s\n"
     ]
    },
    {
     "data": {
      "text/plain": [
       "DIC_Natur\n",
       "matt      5138\n",
       "acker     2994\n",
       "rain      2393\n",
       "feld      1834\n",
       "holz      1612\n",
       "weid      1509\n",
       "halden    1504\n",
       "wald      1485\n",
       "moos      1226\n",
       "rüti      1098\n",
       "Name: STR_ESID, dtype: int64"
      ]
     },
     "execution_count": 34,
     "metadata": {},
     "output_type": "execute_result"
    }
   ],
   "source": [
    "%%time \n",
    "\n",
    "warnings.filterwarnings(\"ignore\")\n",
    "\n",
    "for i in dic_natur:\n",
    "    classif.loc[classif.STN_LABEL_FINAL.str.contains(i,case=False), 'DIC_Natur'] = i\n",
    "  \n",
    "print(\"Number of matches: \", classif['DIC_Natur'].notna().sum())\n",
    "\n",
    "most_common = classif.groupby(\"DIC_Natur\").count()\n",
    "most_common.STR_ESID.nlargest(10)"
   ]
  },
  {
   "cell_type": "markdown",
   "id": "78a0ac26",
   "metadata": {},
   "source": [
    "## Testing similarity with spacy"
   ]
  },
  {
   "cell_type": "code",
   "execution_count": 35,
   "id": "f5828762",
   "metadata": {},
   "outputs": [],
   "source": [
    "#Load a German language model to do NLP - the models we use will influence our results a lot\n",
    "nlp = spacy.load('de_core_news_md') #Change fr/de"
   ]
  },
  {
   "cell_type": "code",
   "execution_count": 36,
   "id": "8d84f6a5",
   "metadata": {},
   "outputs": [],
   "source": [
    "#Load a German language model to do NLP - the models we use will influence our results a lot\n",
    "nlp = spacy.load('de_core_news_md') #Change fr/de"
   ]
  },
  {
   "cell_type": "code",
   "execution_count": 37,
   "id": "b3aa5f75",
   "metadata": {},
   "outputs": [
    {
     "name": "stdout",
     "output_type": "stream",
     "text": [
      "0.4916154409620511\n"
     ]
    }
   ],
   "source": [
    "#e.g.\n",
    "doc1 = nlp(\"Zürich\")\n",
    "doc2 = nlp(\"Bern,\")\n",
    "print(doc1.similarity(doc2))"
   ]
  },
  {
   "cell_type": "code",
   "execution_count": 38,
   "id": "e4fc0447",
   "metadata": {},
   "outputs": [],
   "source": [
    "#Create subset since spacy is slow for larger datasets\n",
    "classifSubset = classif.iloc[:30,:]"
   ]
  },
  {
   "cell_type": "code",
   "execution_count": 39,
   "id": "fa49047c",
   "metadata": {},
   "outputs": [
    {
     "name": "stdout",
     "output_type": "stream",
     "text": [
      "Wieden\n",
      "Wuhrbärgli\n",
      "Emanuelen\n",
      "Löhr\n",
      "Brunn\n",
      "Becken\n",
      "Post\n",
      "Bromhübel\n",
      "Zurlinden\n",
      "Bergli\n",
      "Weihermatt\n",
      "Schmalzgruben\n",
      "Kelten\n",
      "Biel\n",
      "Wald\n",
      "Neu\n",
      "Vogesen\n",
      "Wolfgalgenstutz\n",
      "Anger\n",
      "Chilch\n",
      "Anton von Blarer\n",
      "Golchen\n",
      "Madlenjäger\n",
      "Strengelersacker\n",
      "Rütirain\n",
      "Oris\n",
      "Fuchsacker\n",
      "Stockbrunnenrain\n",
      "Langenhag\n",
      "Weid\n",
      "CPU times: total: 19.5 s\n",
      "Wall time: 20.6 s\n"
     ]
    }
   ],
   "source": [
    "%%time \n",
    "\n",
    "\n",
    "for i in classifSubset.STN_LABEL_FINAL.items():\n",
    "    doc1 = nlp(i[1])\n",
    "    print(i[1])\n",
    "    for j in dic_Siedlung:\n",
    "        doc2 = nlp(j)\n",
    "        sim = doc1.similarity(doc2)\n",
    "        classifSubset.loc[i[0], 'SIEDLUNG_SIM'] = sim\n",
    "        phrase = 'similarity of ' + str(i) + ' with ' + str(j)+ ' is: '+ str(sim)\n",
    "        if sim > 0.7:\n",
    "            print(phrase)"
   ]
  },
  {
   "cell_type": "code",
   "execution_count": 40,
   "id": "f3f7767b",
   "metadata": {},
   "outputs": [],
   "source": [
    "classif.to_csv('C:\\CAS_Arbeit\\cassda-zertifikatsarbeit\\Modeling\\out_dictionary.csv', encoding='UTF-8-SIG', sep=';')"
   ]
  }
 ],
 "metadata": {
  "kernelspec": {
   "display_name": "Python 3 (ipykernel)",
   "language": "python",
   "name": "python3"
  },
  "language_info": {
   "codemirror_mode": {
    "name": "ipython",
    "version": 3
   },
   "file_extension": ".py",
   "mimetype": "text/x-python",
   "name": "python",
   "nbconvert_exporter": "python",
   "pygments_lexer": "ipython3",
   "version": "3.10.7"
  }
 },
 "nbformat": 4,
 "nbformat_minor": 5
}
