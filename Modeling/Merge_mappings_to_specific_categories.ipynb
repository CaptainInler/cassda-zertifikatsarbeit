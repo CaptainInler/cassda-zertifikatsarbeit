{
 "cells": [
  {
   "cell_type": "markdown",
   "id": "20b2b095",
   "metadata": {},
   "source": [
    "# Merge mapping outputs from different classifications (wikidata, dictionaries, self & spacy) -  Classifying special street designations"
   ]
  },
  {
   "cell_type": "code",
   "execution_count": 1,
   "id": "2e712996",
   "metadata": {},
   "outputs": [],
   "source": [
    "#Load all needed libraries\n",
    "import pandas as pd\n",
    "import time\n",
    "import warnings\n",
    "from functools import reduce  "
   ]
  },
  {
   "cell_type": "markdown",
   "id": "0fc00a89",
   "metadata": {},
   "source": [
    "Add all data"
   ]
  },
  {
   "cell_type": "code",
   "execution_count": 2,
   "id": "d3a470a7",
   "metadata": {},
   "outputs": [],
   "source": [
    "#Streetnames\n",
    "streetnames = pd.read_csv('../Datapreparation/streetnames.csv', encoding='UTF-8-SIG', sep=';')\n",
    "\n",
    "#Results from spacy classification\n",
    "spacy = pd.read_csv('../Datapreparation/spacy_out.csv', encoding='UTF-8-SIG', sep=';')\n",
    "\n",
    "#Results from classification using wikidata\n",
    "wiki_person = pd.read_csv('mapping wiki person_out.csv', encoding='UTF-8-SIG', sep=';')\n",
    "\n",
    "#Results from classification using dictionaries & self-classifier\n",
    "dictionary = pd.read_csv('out_dictionary.csv', encoding='UTF-8-SIG', sep=';')"
   ]
  },
  {
   "cell_type": "markdown",
   "id": "27a80a5a",
   "metadata": {},
   "source": [
    "Merge these datasets"
   ]
  },
  {
   "cell_type": "code",
   "execution_count": 7,
   "id": "5bfe7afe",
   "metadata": {},
   "outputs": [],
   "source": [
    "mapping = reduce(lambda left, right:     # Merge three pandas DataFrames\n",
    "                     pd.merge(left , right,\n",
    "                              on = [\"STR_ESID\"],\n",
    "                              how = \"outer\"),\n",
    "                     [streetnames, spacy, dictionary])\n",
    "\n",
    "\n",
    "# Add wiki_person"
   ]
  },
  {
   "cell_type": "markdown",
   "id": "1f13f93f",
   "metadata": {},
   "source": [
    "Rules to define final specific street designation"
   ]
  },
  {
   "cell_type": "code",
   "execution_count": 8,
   "id": "d1797662",
   "metadata": {},
   "outputs": [],
   "source": [
    "mapping.loc[mapping['DIC_Ortschaft'].notna() , 'classif'] = 'Ortschaft'\n",
    "mapping.loc[mapping['DIC_Berufe'].notna() , 'classif'] = 'Beruf'\n",
    "mapping.loc[mapping['SPACY_FR_ENT'] == 'PER', 'classif'] = 'Person'\n",
    "mapping.loc[mapping['SPACY_DE_ENT'] == 'PER', 'classif'] = 'Person'\n",
    "mapping.loc[mapping['DIC_Lebewesen'].notna() , 'classif'] = 'Lebewesen'\n",
    "mapping.loc[mapping['DIC_Siedlung'].notna() , 'classif'] = 'Siedlung'\n",
    "mapping.loc[mapping['DIC_Religion'].notna() , 'classif'] = 'Religion'\n",
    "mapping.loc[mapping['DIC_Natur'].notna() , 'classif'] = 'Natur'\n",
    "mapping.loc[mapping['DIC_Berg'].notna() , 'classif'] = 'Berg'\n",
    "mapping.loc[mapping['DIC_Natur'].notna() , 'classif'] = 'Natur'\n",
    "mapping.loc[mapping['DIC_Gewässer'].notna() , 'classif'] = 'Gewässer'\n",
    "mapping.loc[mapping['STR_PREPS'] == 'sankt', 'classif'] = 'Religion'\n",
    "mapping[\"classif\"] = mapping[\"classif\"].fillna('Andere')"
   ]
  },
  {
   "cell_type": "markdown",
   "id": "f5ec9f29",
   "metadata": {},
   "source": [
    "Clean output dataset"
   ]
  },
  {
   "cell_type": "code",
   "execution_count": 9,
   "id": "42f45fae",
   "metadata": {},
   "outputs": [
    {
     "data": {
      "text/plain": [
       "Index(['Unnamed: 0_x', 'STR_ESID', 'STN_LABEL_x', 'COM_FOSNR', 'COM_NAME',\n",
       "       'COM_CANTON', 'STR_OFFICIAL', 'STR_EASTING', 'STR_NORTHING',\n",
       "       'STN_LABEL_NO_BI', 'STN_LABEL_NO_TERMS', 'STR_TERMS', 'STR_PREPS',\n",
       "       'STN_LABEL_FINAL_x', 'Unnamed: 0_y', 'STN_LABEL_y', 'STN_LABEL_FINAL_y',\n",
       "       'SPACY_DE', 'SPACY_DE_LEMMA', 'SPACY_DE_ENT', 'SPACY_FR',\n",
       "       'SPACY_FR_LEMMA', 'SPACY_FR_ENT', 'Unnamed: 0', 'STN_LABEL',\n",
       "       'STN_LABEL_FINAL', 'DIC_Lebewesen', 'DIC_Ortschaft', 'DIC_Berufe',\n",
       "       'DIC_Gewässer', 'DIC_Berg', 'DIC_Siedlung', 'DIC_Religion', 'DIC_Natur',\n",
       "       'classif'],\n",
       "      dtype='object')"
      ]
     },
     "execution_count": 9,
     "metadata": {},
     "output_type": "execute_result"
    }
   ],
   "source": [
    "mapping.columns"
   ]
  },
  {
   "cell_type": "code",
   "execution_count": 10,
   "id": "b6603e91",
   "metadata": {},
   "outputs": [],
   "source": [
    "mapping = mapping.drop(['Unnamed: 0_x', 'Unnamed: 0_y', 'STN_LABEL_y', 'STN_LABEL_FINAL_y','STN_LABEL_FINAL_x' ,'STN_LABEL_x'], axis=1)"
   ]
  },
  {
   "cell_type": "code",
   "execution_count": 11,
   "id": "b707e215",
   "metadata": {},
   "outputs": [],
   "source": [
    "mapping.to_csv('C:\\CAS_Arbeit\\cassda-zertifikatsarbeit\\Modeling\\out_mapping.csv', encoding='UTF-8-SIG', sep=';')"
   ]
  }
 ],
 "metadata": {
  "kernelspec": {
   "display_name": "Python 3 (ipykernel)",
   "language": "python",
   "name": "python3"
  },
  "language_info": {
   "codemirror_mode": {
    "name": "ipython",
    "version": 3
   },
   "file_extension": ".py",
   "mimetype": "text/x-python",
   "name": "python",
   "nbconvert_exporter": "python",
   "pygments_lexer": "ipython3",
   "version": "3.10.7"
  }
 },
 "nbformat": 4,
 "nbformat_minor": 5
}
