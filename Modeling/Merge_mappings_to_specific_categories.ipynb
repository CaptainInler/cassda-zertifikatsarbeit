{
 "cells": [
  {
   "cell_type": "markdown",
   "id": "20b2b095",
   "metadata": {},
   "source": [
    "# Merge mapping outputs from different classifications (wikidata, dictionaries, self & spacy) -  Classifying special street designations"
   ]
  },
  {
   "cell_type": "code",
   "execution_count": 1,
   "id": "2e712996",
   "metadata": {},
   "outputs": [],
   "source": [
    "#Load all needed libraries\n",
    "import pandas as pd\n",
    "import time\n",
    "from functools import reduce  \n",
    "import warnings"
   ]
  },
  {
   "cell_type": "markdown",
   "id": "0fc00a89",
   "metadata": {},
   "source": [
    "Add all data"
   ]
  },
  {
   "cell_type": "code",
   "execution_count": 2,
   "id": "d3a470a7",
   "metadata": {},
   "outputs": [],
   "source": [
    "#Streetnames\n",
    "streetnames = pd.read_csv('../Datapreparation/streetnames.csv', encoding='UTF-8-SIG', sep=';')\n",
    "\n",
    "#Results from spacy classification\n",
    "spacy = pd.read_csv('../Datapreparation/spacy_out.csv', encoding='UTF-8-SIG', sep=';')\n",
    "\n",
    "#Results from classification using wikidata\n",
    "wiki_person_de = pd.read_csv('mapping wiki person_de_out.csv', encoding='UTF-8-SIG', sep=';')\n",
    "wiki_person_fr = pd.read_csv('mapping wiki person_fr_out.csv', encoding='UTF-8-SIG', sep=';')\n",
    "\n",
    "#Results from classification using dictionaries & self-classifier\n",
    "dictionary = pd.read_csv('out_dictionary.csv', encoding='UTF-8-SIG', sep=';')"
   ]
  },
  {
   "cell_type": "code",
   "execution_count": 3,
   "id": "561f4915",
   "metadata": {},
   "outputs": [
    {
     "data": {
      "text/html": [
       "<div>\n",
       "<style scoped>\n",
       "    .dataframe tbody tr th:only-of-type {\n",
       "        vertical-align: middle;\n",
       "    }\n",
       "\n",
       "    .dataframe tbody tr th {\n",
       "        vertical-align: top;\n",
       "    }\n",
       "\n",
       "    .dataframe thead th {\n",
       "        text-align: right;\n",
       "    }\n",
       "</style>\n",
       "<table border=\"1\" class=\"dataframe\">\n",
       "  <thead>\n",
       "    <tr style=\"text-align: right;\">\n",
       "      <th></th>\n",
       "      <th>STR_ESID</th>\n",
       "      <th>STN_LABEL_FINAL</th>\n",
       "      <th>SPACY_DE_LEMMA</th>\n",
       "    </tr>\n",
       "  </thead>\n",
       "  <tbody>\n",
       "    <tr>\n",
       "      <th>2</th>\n",
       "      <td>10140563</td>\n",
       "      <td>Emanuelen</td>\n",
       "      <td>Emanuel</td>\n",
       "    </tr>\n",
       "    <tr>\n",
       "      <th>12</th>\n",
       "      <td>10169078</td>\n",
       "      <td>Kelten</td>\n",
       "      <td>Kelt</td>\n",
       "    </tr>\n",
       "    <tr>\n",
       "      <th>30</th>\n",
       "      <td>10142970</td>\n",
       "      <td>Meisen</td>\n",
       "      <td>Meisen</td>\n",
       "    </tr>\n",
       "    <tr>\n",
       "      <th>32</th>\n",
       "      <td>10103851</td>\n",
       "      <td>Ringlichen</td>\n",
       "      <td>Ringliche</td>\n",
       "    </tr>\n",
       "    <tr>\n",
       "      <th>125</th>\n",
       "      <td>10108780</td>\n",
       "      <td>Eisen</td>\n",
       "      <td>Ei</td>\n",
       "    </tr>\n",
       "    <tr>\n",
       "      <th>54718</th>\n",
       "      <td>10209758</td>\n",
       "      <td>Sonnhalde</td>\n",
       "      <td>Sonnhald</td>\n",
       "    </tr>\n",
       "    <tr>\n",
       "      <th>54656</th>\n",
       "      <td>10013619</td>\n",
       "      <td>Moselen</td>\n",
       "      <td>Mosel</td>\n",
       "    </tr>\n",
       "    <tr>\n",
       "      <th>54680</th>\n",
       "      <td>10116917</td>\n",
       "      <td>Häusern</td>\n",
       "      <td>Haus</td>\n",
       "    </tr>\n",
       "    <tr>\n",
       "      <th>54712</th>\n",
       "      <td>10064127</td>\n",
       "      <td>Alpbachsäge</td>\n",
       "      <td>Alpbachsag</td>\n",
       "    </tr>\n",
       "    <tr>\n",
       "      <th>54746</th>\n",
       "      <td>10119756</td>\n",
       "      <td>Truffersbrunnen</td>\n",
       "      <td>Truffersbrunn</td>\n",
       "    </tr>\n",
       "    <tr>\n",
       "      <th>54779</th>\n",
       "      <td>10009440</td>\n",
       "      <td>Ins</td>\n",
       "      <td>in</td>\n",
       "    </tr>\n",
       "  </tbody>\n",
       "</table>\n",
       "</div>"
      ],
      "text/plain": [
       "       STR_ESID  STN_LABEL_FINAL SPACY_DE_LEMMA\n",
       "2      10140563        Emanuelen        Emanuel\n",
       "12     10169078           Kelten           Kelt\n",
       "30     10142970           Meisen         Meisen\n",
       "32     10103851       Ringlichen      Ringliche\n",
       "125    10108780            Eisen             Ei\n",
       "54718  10209758        Sonnhalde       Sonnhald\n",
       "54656  10013619          Moselen          Mosel\n",
       "54680  10116917          Häusern           Haus\n",
       "54712  10064127      Alpbachsäge     Alpbachsag\n",
       "54746  10119756  Truffersbrunnen  Truffersbrunn\n",
       "54779  10009440              Ins             in"
      ]
     },
     "execution_count": 3,
     "metadata": {},
     "output_type": "execute_result"
    }
   ],
   "source": [
    "spacy.loc[[2,12,30,32,125,54718, 54656, 54680, 54712, 54746, 54779], ['STR_ESID', 'STN_LABEL_FINAL', 'SPACY_DE_LEMMA']]"
   ]
  },
  {
   "cell_type": "markdown",
   "id": "2cdcf1ea",
   "metadata": {},
   "source": [
    "Union de & fr"
   ]
  },
  {
   "cell_type": "code",
   "execution_count": 4,
   "id": "a1922e1e",
   "metadata": {},
   "outputs": [],
   "source": [
    "frames = [wiki_person_de, wiki_person_fr]\n",
    "  \n",
    "wikidata = pd.concat(frames)"
   ]
  },
  {
   "cell_type": "markdown",
   "id": "27a80a5a",
   "metadata": {},
   "source": [
    "Merge these datasets"
   ]
  },
  {
   "cell_type": "markdown",
   "id": "a4829ae8",
   "metadata": {},
   "source": [
    "mapping = reduce(lambda left, right:     # Merge three pandas DataFrames\n",
    "                     pd.merge(left , right,\n",
    "                              on = [\"STR_ESID\"],\n",
    "                              how = \"outer\"),\n",
    "                     [streetnames, spacy, dictionary])\n",
    "\n",
    "\n",
    "# Add wiki_person"
   ]
  },
  {
   "cell_type": "code",
   "execution_count": 5,
   "id": "01c5910f",
   "metadata": {},
   "outputs": [],
   "source": [
    "warnings.filterwarnings(\"ignore\")\n",
    "\n",
    "mapping = reduce(lambda left, right:     # Merge three pandas DataFrames\n",
    "                     pd.merge(left , right,\n",
    "                              on = [\"STR_ESID\"],\n",
    "                              how = \"outer\"),\n",
    "                     [streetnames, spacy, dictionary, wikidata])\n",
    "\n",
    "\n"
   ]
  },
  {
   "cell_type": "code",
   "execution_count": 6,
   "id": "d1797662",
   "metadata": {},
   "outputs": [],
   "source": [
    "mapping.loc[mapping['DIC_Ortschaft'].notna() , 'classif'] = 'Ortschaft'\n",
    "mapping.loc[mapping['DIC_Berufe'].notna() , 'classif'] = 'Beruf'\n",
    "mapping.loc[(mapping['SPACY_FR_ENT'] == 'PER') | (mapping['SPACY_DE_ENT'] == 'PER'), 'classif'] = 'Person'\n",
    "mapping.loc[mapping['wikiQLabel'].notnull(), 'classif'] = 'Person'\n",
    "mapping.loc[mapping['DIC_Lebewesen'].notna() , 'classif'] = 'Lebewesen'\n",
    "mapping.loc[mapping['DIC_Siedlung'].notna() , 'classif'] = 'Siedlung'\n",
    "mapping.loc[mapping['DIC_Religion'].notna() , 'classif'] = 'Religion'\n",
    "mapping.loc[mapping['DIC_Natur'].notna() , 'classif'] = 'Natur'\n",
    "mapping.loc[mapping['DIC_Berg'].notna() , 'classif'] = 'Berg'\n",
    "mapping.loc[mapping['DIC_Gewässer'].notna() , 'classif'] = 'Gewässer'\n",
    "mapping.loc[mapping['STR_PREPS'] == 'sankt', 'classif'] = 'Religion'\n",
    "mapping[\"classif\"] = mapping[\"classif\"].fillna('Andere')"
   ]
  },
  {
   "cell_type": "markdown",
   "id": "f5ec9f29",
   "metadata": {},
   "source": [
    "Clean output dataset"
   ]
  },
  {
   "cell_type": "code",
   "execution_count": 7,
   "id": "42f45fae",
   "metadata": {},
   "outputs": [
    {
     "data": {
      "text/plain": [
       "Index(['Unnamed: 0_x', 'STR_ESID', 'STN_LABEL_x', 'COM_FOSNR', 'COM_NAME',\n",
       "       'COM_CANTON', 'STR_OFFICIAL', 'STR_EASTING', 'STR_NORTHING',\n",
       "       'STN_LABEL_NO_BI', 'STN_LABEL_NO_TERMS', 'STR_TERMS', 'STR_PREPS',\n",
       "       'STN_LABEL_FINAL_x', 'Unnamed: 0_y', 'STN_LABEL_y', 'STN_LABEL_FINAL_y',\n",
       "       'SPACY_DE', 'SPACY_DE_LEMMA', 'SPACY_DE_ENT', 'SPACY_FR',\n",
       "       'SPACY_FR_LEMMA', 'SPACY_FR_ENT', 'Unnamed: 0_x', 'STN_LABEL',\n",
       "       'STN_LABEL_FINAL_x', 'DIC_Lebewesen', 'DIC_Ortschaft', 'DIC_Berufe',\n",
       "       'DIC_Gewässer', 'DIC_Berg', 'DIC_Siedlung', 'DIC_Religion', 'DIC_Natur',\n",
       "       'Unnamed: 0_y', 'STN_LABEL_FINAL_y', 'wikiQLabel', 'wikiQ', 'sex',\n",
       "       'birth', 'death', 'placebirth', 'placedeath', 'image', 'classif'],\n",
       "      dtype='object')"
      ]
     },
     "execution_count": 7,
     "metadata": {},
     "output_type": "execute_result"
    }
   ],
   "source": [
    "mapping.columns"
   ]
  },
  {
   "cell_type": "code",
   "execution_count": 8,
   "id": "b6603e91",
   "metadata": {},
   "outputs": [],
   "source": [
    "mapping = mapping.drop(['Unnamed: 0_x', 'Unnamed: 0_y', 'STN_LABEL_y', 'STN_LABEL_FINAL_y','STN_LABEL_FINAL_x' ,'STN_LABEL_x', 'Unnamed: 0_y','STN_LABEL_FINAL_y' ], axis=1)"
   ]
  },
  {
   "cell_type": "code",
   "execution_count": 9,
   "id": "b707e215",
   "metadata": {},
   "outputs": [],
   "source": [
    "mapping.to_csv('C:\\CAS_Arbeit\\cassda-zertifikatsarbeit\\Modeling\\out_mapping.csv', encoding='UTF-8-SIG', sep=';')"
   ]
  }
 ],
 "metadata": {
  "kernelspec": {
   "display_name": "Python 3 (ipykernel)",
   "language": "python",
   "name": "python3"
  },
  "language_info": {
   "codemirror_mode": {
    "name": "ipython",
    "version": 3
   },
   "file_extension": ".py",
   "mimetype": "text/x-python",
   "name": "python",
   "nbconvert_exporter": "python",
   "pygments_lexer": "ipython3",
   "version": "3.10.7"
  }
 },
 "nbformat": 4,
 "nbformat_minor": 5
}
